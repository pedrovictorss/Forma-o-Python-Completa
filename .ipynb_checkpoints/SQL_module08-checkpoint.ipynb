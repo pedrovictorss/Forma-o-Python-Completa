{
 "cells": [
  {
   "cell_type": "markdown",
   "id": "b7d36344",
   "metadata": {},
   "source": [
    "# 1.0. Connect to database\n"
   ]
  },
  {
   "cell_type": "code",
   "execution_count": 15,
   "id": "0a983567",
   "metadata": {
    "ExecuteTime": {
     "end_time": "2023-01-17T19:08:44.919934Z",
     "start_time": "2023-01-17T19:08:44.392565Z"
    }
   },
   "outputs": [
    {
     "name": "stderr",
     "output_type": "stream",
     "text": [
      "C:\\Users\\pedro\\AppData\\Local\\Temp\\ipykernel_7208\\2991294629.py:5: DeprecationWarning: Importing display from IPython.core.display is deprecated since IPython 7.14, please import from IPython display\n",
      "  from IPython.core.display import display, HTML\n"
     ]
    },
    {
     "data": {
      "text/html": [
       "<style>.container { width:80% !important; }</style>"
      ],
      "text/plain": [
       "<IPython.core.display.HTML object>"
      ]
     },
     "metadata": {},
     "output_type": "display_data"
    }
   ],
   "source": [
    "import sqlite3\n",
    "import pandas as pd\n",
    "\n",
    "from sqlalchemy import create_engine\n",
    "from IPython.core.display import display, HTML\n",
    "display(HTML(\"<style>.container { width:80% !important; }</style>\"))"
   ]
  },
  {
   "cell_type": "code",
   "execution_count": 10,
   "id": "34a8e38e",
   "metadata": {
    "ExecuteTime": {
     "end_time": "2023-01-17T18:56:15.765519Z",
     "start_time": "2023-01-17T18:56:15.755212Z"
    }
   },
   "outputs": [],
   "source": [
    "db = create_engine('sqlite:///C:\\\\Users\\\\pedro\\\\repos\\\\Formacao-Python-Completa\\\\db_olist.sqlite', echo=False)\n",
    "conn = db.connect()"
   ]
  },
  {
   "cell_type": "markdown",
   "id": "5cc837e7",
   "metadata": {},
   "source": [
    "# 2.0. Loading dataset\n"
   ]
  },
  {
   "cell_type": "code",
   "execution_count": 17,
   "id": "212ac82b",
   "metadata": {
    "ExecuteTime": {
     "end_time": "2023-01-17T19:09:06.767329Z",
     "start_time": "2023-01-17T19:09:06.490794Z"
    }
   },
   "outputs": [],
   "source": [
    "# dataset\n",
    "df_customer = pd.read_csv('C:/Users/pedro/OneDrive/Documentos/CURSOS/Python_do_DS_ao_DEV/olist/olist_customers_dataset.csv')"
   ]
  },
  {
   "cell_type": "code",
   "execution_count": null,
   "id": "41aa8876",
   "metadata": {},
   "outputs": [],
   "source": [
    "schema_"
   ]
  },
  {
   "cell_type": "code",
   "execution_count": null,
   "id": "77fd379b",
   "metadata": {},
   "outputs": [],
   "source": []
  },
  {
   "cell_type": "code",
   "execution_count": null,
   "id": "b5d6ca2e",
   "metadata": {},
   "outputs": [],
   "source": []
  },
  {
   "cell_type": "code",
   "execution_count": 18,
   "id": "5a18357b",
   "metadata": {
    "ExecuteTime": {
     "end_time": "2023-01-17T19:09:20.456231Z",
     "start_time": "2023-01-17T19:09:20.418900Z"
    }
   },
   "outputs": [
    {
     "data": {
      "text/html": [
       "<div>\n",
       "<style scoped>\n",
       "    .dataframe tbody tr th:only-of-type {\n",
       "        vertical-align: middle;\n",
       "    }\n",
       "\n",
       "    .dataframe tbody tr th {\n",
       "        vertical-align: top;\n",
       "    }\n",
       "\n",
       "    .dataframe thead th {\n",
       "        text-align: right;\n",
       "    }\n",
       "</style>\n",
       "<table border=\"1\" class=\"dataframe\">\n",
       "  <thead>\n",
       "    <tr style=\"text-align: right;\">\n",
       "      <th></th>\n",
       "      <th>customer_id</th>\n",
       "      <th>customer_unique_id</th>\n",
       "      <th>customer_zip_code_prefix</th>\n",
       "      <th>customer_city</th>\n",
       "      <th>customer_state</th>\n",
       "    </tr>\n",
       "  </thead>\n",
       "  <tbody>\n",
       "    <tr>\n",
       "      <th>0</th>\n",
       "      <td>06b8999e2fba1a1fbc88172c00ba8bc7</td>\n",
       "      <td>861eff4711a542e4b93843c6dd7febb0</td>\n",
       "      <td>14409</td>\n",
       "      <td>franca</td>\n",
       "      <td>SP</td>\n",
       "    </tr>\n",
       "    <tr>\n",
       "      <th>1</th>\n",
       "      <td>18955e83d337fd6b2def6b18a428ac77</td>\n",
       "      <td>290c77bc529b7ac935b93aa66c333dc3</td>\n",
       "      <td>9790</td>\n",
       "      <td>sao bernardo do campo</td>\n",
       "      <td>SP</td>\n",
       "    </tr>\n",
       "    <tr>\n",
       "      <th>2</th>\n",
       "      <td>4e7b3e00288586ebd08712fdd0374a03</td>\n",
       "      <td>060e732b5b29e8181a18229c7b0b2b5e</td>\n",
       "      <td>1151</td>\n",
       "      <td>sao paulo</td>\n",
       "      <td>SP</td>\n",
       "    </tr>\n",
       "    <tr>\n",
       "      <th>3</th>\n",
       "      <td>b2b6027bc5c5109e529d4dc6358b12c3</td>\n",
       "      <td>259dac757896d24d7702b9acbbff3f3c</td>\n",
       "      <td>8775</td>\n",
       "      <td>mogi das cruzes</td>\n",
       "      <td>SP</td>\n",
       "    </tr>\n",
       "    <tr>\n",
       "      <th>4</th>\n",
       "      <td>4f2d8ab171c80ec8364f7c12e35b23ad</td>\n",
       "      <td>345ecd01c38d18a9036ed96c73b8d066</td>\n",
       "      <td>13056</td>\n",
       "      <td>campinas</td>\n",
       "      <td>SP</td>\n",
       "    </tr>\n",
       "  </tbody>\n",
       "</table>\n",
       "</div>"
      ],
      "text/plain": [
       "                        customer_id                customer_unique_id  \\\n",
       "0  06b8999e2fba1a1fbc88172c00ba8bc7  861eff4711a542e4b93843c6dd7febb0   \n",
       "1  18955e83d337fd6b2def6b18a428ac77  290c77bc529b7ac935b93aa66c333dc3   \n",
       "2  4e7b3e00288586ebd08712fdd0374a03  060e732b5b29e8181a18229c7b0b2b5e   \n",
       "3  b2b6027bc5c5109e529d4dc6358b12c3  259dac757896d24d7702b9acbbff3f3c   \n",
       "4  4f2d8ab171c80ec8364f7c12e35b23ad  345ecd01c38d18a9036ed96c73b8d066   \n",
       "\n",
       "   customer_zip_code_prefix          customer_city customer_state  \n",
       "0                     14409                 franca             SP  \n",
       "1                      9790  sao bernardo do campo             SP  \n",
       "2                      1151              sao paulo             SP  \n",
       "3                      8775        mogi das cruzes             SP  \n",
       "4                     13056               campinas             SP  "
      ]
     },
     "execution_count": 18,
     "metadata": {},
     "output_type": "execute_result"
    }
   ],
   "source": [
    "df_customer.head()"
   ]
  },
  {
   "cell_type": "code",
   "execution_count": 12,
   "id": "2c253889",
   "metadata": {
    "ExecuteTime": {
     "end_time": "2023-01-17T19:06:13.367203Z",
     "start_time": "2023-01-17T19:06:13.259362Z"
    },
    "scrolled": false
   },
   "outputs": [
    {
     "name": "stdout",
     "output_type": "stream",
     "text": [
      " O volume na unidade C ‚ Windows-SSD\n",
      " O N£mero de S‚rie do Volume ‚ 5418-2FA6\n",
      "\n",
      " Pasta de C:\\Users\\pedro\\repos\\Formacao-Python-Completa\n",
      "\n",
      "\n",
      " Pasta de C:\\Users\\pedro\\OneDrive\\Documentos\\CURSOS\\Python_do_DS_ao_DEV\\olist\n",
      "\n",
      "17/01/2023  16:05    <DIR>          .\n",
      "17/01/2023  16:05    <DIR>          ..\n",
      "06/10/2019  21:27         9.033.957 olist_customers_dataset.csv\n",
      "06/10/2019  21:27        61.273.883 olist_geolocation_dataset.csv\n",
      "06/10/2019  21:27        15.438.671 olist_order_items_dataset.csv\n",
      "06/10/2019  21:27         5.777.138 olist_order_payments_dataset.csv\n",
      "06/10/2019  21:27        14.409.007 olist_order_reviews_dataset.csv\n",
      "06/10/2019  21:27        17.654.914 olist_orders_dataset.csv\n",
      "06/10/2019  21:27         2.379.446 olist_products_dataset.csv\n",
      "17/01/2023  16:04           174.703 olist_sellers_dataset.csv\n",
      "17/01/2023  16:04             2.613 product_category_name_translation.csv\n",
      "               9 arquivo(s)    126.144.332 bytes\n",
      "               2 pasta(s)   74.644.168.704 bytes dispon¡veis\n"
     ]
    },
    {
     "name": "stderr",
     "output_type": "stream",
     "text": [
      "Arquivo nÆo encontrado\n"
     ]
    }
   ],
   "source": [
    "ls -l C:\\Users\\pedro\\OneDrive\\Documentos\\CURSOS\\Python_do_DS_ao_DEV\\olist"
   ]
  },
  {
   "cell_type": "code",
   "execution_count": null,
   "id": "29d5acfe",
   "metadata": {},
   "outputs": [],
   "source": []
  },
  {
   "cell_type": "code",
   "execution_count": null,
   "id": "38d28622",
   "metadata": {},
   "outputs": [],
   "source": []
  },
  {
   "cell_type": "markdown",
   "id": "d01fb9b7",
   "metadata": {},
   "source": [
    "# 3.0. Check Database"
   ]
  },
  {
   "cell_type": "code",
   "execution_count": null,
   "id": "fcda00fa",
   "metadata": {},
   "outputs": [],
   "source": []
  },
  {
   "cell_type": "code",
   "execution_count": null,
   "id": "4ba50768",
   "metadata": {},
   "outputs": [],
   "source": []
  },
  {
   "cell_type": "code",
   "execution_count": null,
   "id": "723543b2",
   "metadata": {},
   "outputs": [],
   "source": []
  }
 ],
 "metadata": {
  "hide_input": false,
  "kernelspec": {
   "display_name": "Python 3 (ipykernel)",
   "language": "python",
   "name": "python3"
  },
  "language_info": {
   "codemirror_mode": {
    "name": "ipython",
    "version": 3
   },
   "file_extension": ".py",
   "mimetype": "text/x-python",
   "name": "python",
   "nbconvert_exporter": "python",
   "pygments_lexer": "ipython3",
   "version": "3.9.7"
  },
  "varInspector": {
   "cols": {
    "lenName": 16,
    "lenType": 16,
    "lenVar": 40
   },
   "kernels_config": {
    "python": {
     "delete_cmd_postfix": "",
     "delete_cmd_prefix": "del ",
     "library": "var_list.py",
     "varRefreshCmd": "print(var_dic_list())"
    },
    "r": {
     "delete_cmd_postfix": ") ",
     "delete_cmd_prefix": "rm(",
     "library": "var_list.r",
     "varRefreshCmd": "cat(var_dic_list()) "
    }
   },
   "types_to_exclude": [
    "module",
    "function",
    "builtin_function_or_method",
    "instance",
    "_Feature"
   ],
   "window_display": false
  }
 },
 "nbformat": 4,
 "nbformat_minor": 5
}
