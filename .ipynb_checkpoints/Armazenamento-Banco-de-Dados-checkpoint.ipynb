{
 "cells": [
  {
   "cell_type": "code",
   "execution_count": 1,
   "id": "d931d28e",
   "metadata": {
    "ExecuteTime": {
     "end_time": "2023-01-11T18:12:20.542466Z",
     "start_time": "2023-01-11T18:12:19.770291Z"
    }
   },
   "outputs": [],
   "source": [
    "import pandas as pd"
   ]
  },
  {
   "cell_type": "code",
   "execution_count": 3,
   "id": "fb7b4418",
   "metadata": {
    "ExecuteTime": {
     "end_time": "2023-01-11T18:14:16.869466Z",
     "start_time": "2023-01-11T18:14:16.840908Z"
    }
   },
   "outputs": [],
   "source": [
    "data = pd.read_csv('C:/Users/pedro/OneDrive/Documentos/CURSOS/Python do DS ao DEV/products_hm_cleaned.csv/products_hm_cleaned.csv')"
   ]
  },
  {
   "cell_type": "code",
   "execution_count": 4,
   "id": "a34a0661",
   "metadata": {
    "ExecuteTime": {
     "end_time": "2023-01-11T18:14:28.655506Z",
     "start_time": "2023-01-11T18:14:28.584511Z"
    }
   },
   "outputs": [
    {
     "data": {
      "text/html": [
       "<div>\n",
       "<style scoped>\n",
       "    .dataframe tbody tr th:only-of-type {\n",
       "        vertical-align: middle;\n",
       "    }\n",
       "\n",
       "    .dataframe tbody tr th {\n",
       "        vertical-align: top;\n",
       "    }\n",
       "\n",
       "    .dataframe thead th {\n",
       "        text-align: right;\n",
       "    }\n",
       "</style>\n",
       "<table border=\"1\" class=\"dataframe\">\n",
       "  <thead>\n",
       "    <tr style=\"text-align: right;\">\n",
       "      <th></th>\n",
       "      <th>product_id</th>\n",
       "      <th>product_category</th>\n",
       "      <th>product_name</th>\n",
       "      <th>product_price</th>\n",
       "      <th>scrapy_datetime</th>\n",
       "      <th>style_id</th>\n",
       "      <th>color_name</th>\n",
       "      <th>fit</th>\n",
       "      <th>size_number</th>\n",
       "      <th>size_model</th>\n",
       "      <th>cotton</th>\n",
       "      <th>polyester</th>\n",
       "      <th>elastane</th>\n",
       "      <th>elasterell</th>\n",
       "    </tr>\n",
       "  </thead>\n",
       "  <tbody>\n",
       "    <tr>\n",
       "      <th>0</th>\n",
       "      <td>636207006</td>\n",
       "      <td>men_jeans_slim</td>\n",
       "      <td>slim_jeans</td>\n",
       "      <td>19.99</td>\n",
       "      <td>2021-04-11 17:48:05</td>\n",
       "      <td>636207</td>\n",
       "      <td>white</td>\n",
       "      <td>slim_fit</td>\n",
       "      <td>187.0</td>\n",
       "      <td>31/32</td>\n",
       "      <td>0.99</td>\n",
       "      <td>0.0</td>\n",
       "      <td>0.01</td>\n",
       "      <td>0.0</td>\n",
       "    </tr>\n",
       "    <tr>\n",
       "      <th>1</th>\n",
       "      <td>636207006</td>\n",
       "      <td>men_jeans_slim</td>\n",
       "      <td>slim_jeans</td>\n",
       "      <td>19.99</td>\n",
       "      <td>2021-04-11 17:48:05</td>\n",
       "      <td>636207</td>\n",
       "      <td>dark_denim_blue</td>\n",
       "      <td>slim_fit</td>\n",
       "      <td>187.0</td>\n",
       "      <td>31/30</td>\n",
       "      <td>0.88</td>\n",
       "      <td>0.1</td>\n",
       "      <td>0.02</td>\n",
       "      <td>0.0</td>\n",
       "    </tr>\n",
       "    <tr>\n",
       "      <th>2</th>\n",
       "      <td>636207006</td>\n",
       "      <td>men_jeans_slim</td>\n",
       "      <td>slim_jeans</td>\n",
       "      <td>19.99</td>\n",
       "      <td>2021-04-11 17:48:05</td>\n",
       "      <td>636207</td>\n",
       "      <td>dark_gray_denim</td>\n",
       "      <td>slim_fit</td>\n",
       "      <td>187.0</td>\n",
       "      <td>31/30</td>\n",
       "      <td>0.88</td>\n",
       "      <td>0.1</td>\n",
       "      <td>0.02</td>\n",
       "      <td>0.0</td>\n",
       "    </tr>\n",
       "    <tr>\n",
       "      <th>3</th>\n",
       "      <td>636207006</td>\n",
       "      <td>men_jeans_slim</td>\n",
       "      <td>slim_jeans</td>\n",
       "      <td>19.99</td>\n",
       "      <td>2021-04-11 17:48:05</td>\n",
       "      <td>636207</td>\n",
       "      <td>gray</td>\n",
       "      <td>slim_fit</td>\n",
       "      <td>187.0</td>\n",
       "      <td>31/30</td>\n",
       "      <td>0.88</td>\n",
       "      <td>0.1</td>\n",
       "      <td>0.02</td>\n",
       "      <td>0.0</td>\n",
       "    </tr>\n",
       "    <tr>\n",
       "      <th>4</th>\n",
       "      <td>636207006</td>\n",
       "      <td>men_jeans_slim</td>\n",
       "      <td>slim_jeans</td>\n",
       "      <td>19.99</td>\n",
       "      <td>2021-04-11 17:48:05</td>\n",
       "      <td>636207</td>\n",
       "      <td>black</td>\n",
       "      <td>slim_fit</td>\n",
       "      <td>187.0</td>\n",
       "      <td>31/30</td>\n",
       "      <td>0.88</td>\n",
       "      <td>0.1</td>\n",
       "      <td>0.02</td>\n",
       "      <td>0.0</td>\n",
       "    </tr>\n",
       "  </tbody>\n",
       "</table>\n",
       "</div>"
      ],
      "text/plain": [
       "   product_id product_category product_name  product_price  \\\n",
       "0   636207006   men_jeans_slim   slim_jeans          19.99   \n",
       "1   636207006   men_jeans_slim   slim_jeans          19.99   \n",
       "2   636207006   men_jeans_slim   slim_jeans          19.99   \n",
       "3   636207006   men_jeans_slim   slim_jeans          19.99   \n",
       "4   636207006   men_jeans_slim   slim_jeans          19.99   \n",
       "\n",
       "       scrapy_datetime  style_id       color_name       fit  size_number  \\\n",
       "0  2021-04-11 17:48:05    636207            white  slim_fit        187.0   \n",
       "1  2021-04-11 17:48:05    636207  dark_denim_blue  slim_fit        187.0   \n",
       "2  2021-04-11 17:48:05    636207  dark_gray_denim  slim_fit        187.0   \n",
       "3  2021-04-11 17:48:05    636207             gray  slim_fit        187.0   \n",
       "4  2021-04-11 17:48:05    636207            black  slim_fit        187.0   \n",
       "\n",
       "  size_model  cotton  polyester  elastane  elasterell  \n",
       "0      31/32    0.99        0.0      0.01         0.0  \n",
       "1      31/30    0.88        0.1      0.02         0.0  \n",
       "2      31/30    0.88        0.1      0.02         0.0  \n",
       "3      31/30    0.88        0.1      0.02         0.0  \n",
       "4      31/30    0.88        0.1      0.02         0.0  "
      ]
     },
     "execution_count": 4,
     "metadata": {},
     "output_type": "execute_result"
    }
   ],
   "source": [
    "data.head()"
   ]
  },
  {
   "cell_type": "code",
   "execution_count": 6,
   "id": "6722eb6d",
   "metadata": {
    "ExecuteTime": {
     "end_time": "2023-01-11T18:16:50.257886Z",
     "start_time": "2023-01-11T18:16:50.246322Z"
    }
   },
   "outputs": [],
   "source": [
    "import sqlite3"
   ]
  },
  {
   "cell_type": "code",
   "execution_count": 66,
   "id": "bbc494e2",
   "metadata": {
    "ExecuteTime": {
     "end_time": "2023-01-11T19:13:19.623275Z",
     "start_time": "2023-01-11T19:13:19.617291Z"
    }
   },
   "outputs": [],
   "source": [
    "query_showroom_schema = \"\"\" \n",
    "    CREATE TABLE vitrine (\n",
    "       product_id          INTEGER, \n",
    "       product_category       TEXT, \n",
    "       product_name           TEXT, \n",
    "       product_price          REAL,\n",
    "       scrapy_datetime        TEXT, \n",
    "       style_id            INTEGER, \n",
    "       color_name             TEXT, \n",
    "       fit                    TEXT, \n",
    "       size_number            REAL,\n",
    "       size_model             TEXT, \n",
    "       cotton                 REAL, \n",
    "       polyester              REAL, \n",
    "       elastane               REAL, \n",
    "       elasterell             REAL    \n",
    "    )\n",
    "\"\"\"\n"
   ]
  },
  {
   "cell_type": "code",
   "execution_count": 67,
   "id": "782391c3",
   "metadata": {
    "ExecuteTime": {
     "end_time": "2023-01-11T19:13:20.824061Z",
     "start_time": "2023-01-11T19:13:20.800872Z"
    }
   },
   "outputs": [],
   "source": [
    "# connect to dataset\n",
    "conn = sqlite3.connect('hm_db.sqlite')\n",
    "cursor = conn.execute(query_showroom_schema)\n",
    "conn.commit()\n",
    "conn.close()"
   ]
  },
  {
   "cell_type": "code",
   "execution_count": 14,
   "id": "632037d3",
   "metadata": {
    "ExecuteTime": {
     "end_time": "2023-01-11T18:51:13.710352Z",
     "start_time": "2023-01-11T18:51:13.365202Z"
    }
   },
   "outputs": [],
   "source": [
    "from sqlalchemy import create_engine"
   ]
  },
  {
   "cell_type": "code",
   "execution_count": 68,
   "id": "35c01959",
   "metadata": {
    "ExecuteTime": {
     "end_time": "2023-01-11T19:13:22.323673Z",
     "start_time": "2023-01-11T19:13:22.306190Z"
    }
   },
   "outputs": [],
   "source": [
    "conn = create_engine('sqlite:///hm_db.sqlite', echo=False)"
   ]
  },
  {
   "cell_type": "code",
   "execution_count": 71,
   "id": "70e7b792",
   "metadata": {
    "ExecuteTime": {
     "end_time": "2023-01-11T19:13:27.337510Z",
     "start_time": "2023-01-11T19:13:27.282484Z"
    }
   },
   "outputs": [
    {
     "data": {
      "text/html": [
       "<div>\n",
       "<style scoped>\n",
       "    .dataframe tbody tr th:only-of-type {\n",
       "        vertical-align: middle;\n",
       "    }\n",
       "\n",
       "    .dataframe tbody tr th {\n",
       "        vertical-align: top;\n",
       "    }\n",
       "\n",
       "    .dataframe thead th {\n",
       "        text-align: right;\n",
       "    }\n",
       "</style>\n",
       "<table border=\"1\" class=\"dataframe\">\n",
       "  <thead>\n",
       "    <tr style=\"text-align: right;\">\n",
       "      <th></th>\n",
       "      <th>product_id</th>\n",
       "      <th>product_category</th>\n",
       "      <th>product_name</th>\n",
       "      <th>product_price</th>\n",
       "      <th>scrapy_datetime</th>\n",
       "      <th>style_id</th>\n",
       "      <th>color_name</th>\n",
       "      <th>fit</th>\n",
       "      <th>size_number</th>\n",
       "      <th>size_model</th>\n",
       "      <th>cotton</th>\n",
       "      <th>polyester</th>\n",
       "      <th>elastane</th>\n",
       "      <th>elasterell</th>\n",
       "    </tr>\n",
       "  </thead>\n",
       "  <tbody>\n",
       "    <tr>\n",
       "      <th>0</th>\n",
       "      <td>636207006</td>\n",
       "      <td>men_jeans_slim</td>\n",
       "      <td>slim_jeans</td>\n",
       "      <td>19.99</td>\n",
       "      <td>2021-04-11 17:48:05</td>\n",
       "      <td>636207</td>\n",
       "      <td>white</td>\n",
       "      <td>slim_fit</td>\n",
       "      <td>187.0</td>\n",
       "      <td>31/32</td>\n",
       "      <td>0.99</td>\n",
       "      <td>0.0</td>\n",
       "      <td>0.01</td>\n",
       "      <td>0.0</td>\n",
       "    </tr>\n",
       "    <tr>\n",
       "      <th>1</th>\n",
       "      <td>636207006</td>\n",
       "      <td>men_jeans_slim</td>\n",
       "      <td>slim_jeans</td>\n",
       "      <td>19.99</td>\n",
       "      <td>2021-04-11 17:48:05</td>\n",
       "      <td>636207</td>\n",
       "      <td>dark_denim_blue</td>\n",
       "      <td>slim_fit</td>\n",
       "      <td>187.0</td>\n",
       "      <td>31/30</td>\n",
       "      <td>0.88</td>\n",
       "      <td>0.1</td>\n",
       "      <td>0.02</td>\n",
       "      <td>0.0</td>\n",
       "    </tr>\n",
       "    <tr>\n",
       "      <th>2</th>\n",
       "      <td>636207006</td>\n",
       "      <td>men_jeans_slim</td>\n",
       "      <td>slim_jeans</td>\n",
       "      <td>19.99</td>\n",
       "      <td>2021-04-11 17:48:05</td>\n",
       "      <td>636207</td>\n",
       "      <td>dark_gray_denim</td>\n",
       "      <td>slim_fit</td>\n",
       "      <td>187.0</td>\n",
       "      <td>31/30</td>\n",
       "      <td>0.88</td>\n",
       "      <td>0.1</td>\n",
       "      <td>0.02</td>\n",
       "      <td>0.0</td>\n",
       "    </tr>\n",
       "    <tr>\n",
       "      <th>3</th>\n",
       "      <td>636207006</td>\n",
       "      <td>men_jeans_slim</td>\n",
       "      <td>slim_jeans</td>\n",
       "      <td>19.99</td>\n",
       "      <td>2021-04-11 17:48:05</td>\n",
       "      <td>636207</td>\n",
       "      <td>gray</td>\n",
       "      <td>slim_fit</td>\n",
       "      <td>187.0</td>\n",
       "      <td>31/30</td>\n",
       "      <td>0.88</td>\n",
       "      <td>0.1</td>\n",
       "      <td>0.02</td>\n",
       "      <td>0.0</td>\n",
       "    </tr>\n",
       "    <tr>\n",
       "      <th>4</th>\n",
       "      <td>636207006</td>\n",
       "      <td>men_jeans_slim</td>\n",
       "      <td>slim_jeans</td>\n",
       "      <td>19.99</td>\n",
       "      <td>2021-04-11 17:48:05</td>\n",
       "      <td>636207</td>\n",
       "      <td>black</td>\n",
       "      <td>slim_fit</td>\n",
       "      <td>187.0</td>\n",
       "      <td>31/30</td>\n",
       "      <td>0.88</td>\n",
       "      <td>0.1</td>\n",
       "      <td>0.02</td>\n",
       "      <td>0.0</td>\n",
       "    </tr>\n",
       "  </tbody>\n",
       "</table>\n",
       "</div>"
      ],
      "text/plain": [
       "   product_id product_category product_name  product_price  \\\n",
       "0   636207006   men_jeans_slim   slim_jeans          19.99   \n",
       "1   636207006   men_jeans_slim   slim_jeans          19.99   \n",
       "2   636207006   men_jeans_slim   slim_jeans          19.99   \n",
       "3   636207006   men_jeans_slim   slim_jeans          19.99   \n",
       "4   636207006   men_jeans_slim   slim_jeans          19.99   \n",
       "\n",
       "       scrapy_datetime  style_id       color_name       fit  size_number  \\\n",
       "0  2021-04-11 17:48:05    636207            white  slim_fit        187.0   \n",
       "1  2021-04-11 17:48:05    636207  dark_denim_blue  slim_fit        187.0   \n",
       "2  2021-04-11 17:48:05    636207  dark_gray_denim  slim_fit        187.0   \n",
       "3  2021-04-11 17:48:05    636207             gray  slim_fit        187.0   \n",
       "4  2021-04-11 17:48:05    636207            black  slim_fit        187.0   \n",
       "\n",
       "  size_model  cotton  polyester  elastane  elasterell  \n",
       "0      31/32    0.99        0.0      0.01         0.0  \n",
       "1      31/30    0.88        0.1      0.02         0.0  \n",
       "2      31/30    0.88        0.1      0.02         0.0  \n",
       "3      31/30    0.88        0.1      0.02         0.0  \n",
       "4      31/30    0.88        0.1      0.02         0.0  "
      ]
     },
     "execution_count": 71,
     "metadata": {},
     "output_type": "execute_result"
    }
   ],
   "source": [
    "query = \"\"\"\n",
    "SELECT * FROM vitrine_two\n",
    "\"\"\"\n",
    "df = pd.read_sql_query( query, conn )\n",
    "df.head()"
   ]
  },
  {
   "cell_type": "code",
   "execution_count": 70,
   "id": "5b013286",
   "metadata": {
    "ExecuteTime": {
     "end_time": "2023-01-11T19:13:26.132167Z",
     "start_time": "2023-01-11T19:13:26.066172Z"
    }
   },
   "outputs": [
    {
     "data": {
      "text/plain": [
       "308"
      ]
     },
     "execution_count": 70,
     "metadata": {},
     "output_type": "execute_result"
    }
   ],
   "source": [
    "# insert data to table\n",
    "data.to_sql('vitrine', con=conn, if_exists='append', index=False)"
   ]
  },
  {
   "cell_type": "code",
   "execution_count": 65,
   "id": "7e0d297b",
   "metadata": {
    "ExecuteTime": {
     "end_time": "2023-01-11T19:13:17.243535Z",
     "start_time": "2023-01-11T19:13:17.233109Z"
    }
   },
   "outputs": [],
   "source": [
    "# Command - UPDATE\n",
    "#query = \"\"\"\n",
    "#    UPDATE vitrine\n",
    "#    SET product_category = 'jeans'\n",
    "#    WHERE product_id = 636207006\n",
    "#\"\"\"\n",
    "\n",
    "# Command - DROP\n",
    "#query = \"\"\"\n",
    "#    DROP TABLE vitrine\n",
    "#\"\"\"\n",
    "\n",
    "# Command - ALTER TABLE\n",
    "#query = \"\"\"\n",
    "#    ALTER TABLE vitrine\n",
    "#    RENAME TO vitrine_two\n",
    "#\"\"\"\n",
    "\n",
    "# Command - CREATE INDEX\n",
    "#query = \"\"\"\n",
    "#    CREATE INDEX idx_product_id\n",
    "#    ON vitrine_two (product_id)\n",
    "#\"\"\"\n",
    "\n",
    "#conn = sqlite3.connect('hm_db.sqlite')\n",
    "#cursor = conn.execute(query)\n",
    "#conn.commit()"
   ]
  },
  {
   "cell_type": "code",
   "execution_count": null,
   "id": "df82ac22",
   "metadata": {},
   "outputs": [],
   "source": []
  },
  {
   "cell_type": "code",
   "execution_count": null,
   "id": "3f508d0f",
   "metadata": {},
   "outputs": [],
   "source": []
  },
  {
   "cell_type": "code",
   "execution_count": null,
   "id": "b8a25fe4",
   "metadata": {},
   "outputs": [],
   "source": []
  },
  {
   "cell_type": "code",
   "execution_count": null,
   "id": "7c2e0600",
   "metadata": {},
   "outputs": [],
   "source": []
  },
  {
   "cell_type": "code",
   "execution_count": null,
   "id": "7988f9ca",
   "metadata": {},
   "outputs": [],
   "source": []
  }
 ],
 "metadata": {
  "hide_input": false,
  "kernelspec": {
   "display_name": "Python 3 (ipykernel)",
   "language": "python",
   "name": "python3"
  },
  "language_info": {
   "codemirror_mode": {
    "name": "ipython",
    "version": 3
   },
   "file_extension": ".py",
   "mimetype": "text/x-python",
   "name": "python",
   "nbconvert_exporter": "python",
   "pygments_lexer": "ipython3",
   "version": "3.9.7"
  },
  "varInspector": {
   "cols": {
    "lenName": 16,
    "lenType": 16,
    "lenVar": 40
   },
   "kernels_config": {
    "python": {
     "delete_cmd_postfix": "",
     "delete_cmd_prefix": "del ",
     "library": "var_list.py",
     "varRefreshCmd": "print(var_dic_list())"
    },
    "r": {
     "delete_cmd_postfix": ") ",
     "delete_cmd_prefix": "rm(",
     "library": "var_list.r",
     "varRefreshCmd": "cat(var_dic_list()) "
    }
   },
   "types_to_exclude": [
    "module",
    "function",
    "builtin_function_or_method",
    "instance",
    "_Feature"
   ],
   "window_display": false
  }
 },
 "nbformat": 4,
 "nbformat_minor": 5
}
