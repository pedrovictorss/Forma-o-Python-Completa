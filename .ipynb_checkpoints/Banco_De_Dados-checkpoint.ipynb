{
 "cells": [
  {
   "cell_type": "markdown",
   "id": "df5cddca",
   "metadata": {},
   "source": [
    "# Modulo 07 - Bando de Dados"
   ]
  },
  {
   "cell_type": "code",
   "execution_count": 9,
   "id": "328a6766",
   "metadata": {
    "ExecuteTime": {
     "end_time": "2023-01-11T13:30:58.697871Z",
     "start_time": "2023-01-11T13:30:58.678921Z"
    }
   },
   "outputs": [
    {
     "name": "stderr",
     "output_type": "stream",
     "text": [
      "C:\\Users\\pedro\\AppData\\Local\\Temp\\ipykernel_11312\\2226304558.py:5: DeprecationWarning: Importing display from IPython.core.display is deprecated since IPython 7.14, please import from IPython display\n",
      "  from IPython.core.display import display, HTML\n"
     ]
    },
    {
     "data": {
      "text/html": [
       "<style>.container { width:80% !important; }</style>"
      ],
      "text/plain": [
       "<IPython.core.display.HTML object>"
      ]
     },
     "metadata": {},
     "output_type": "display_data"
    }
   ],
   "source": [
    "import pandas as pd\n",
    "import numpy as np\n",
    "import re\n",
    "\n",
    "from IPython.core.display import display, HTML\n",
    "display(HTML(\"<style>.container { width:80% !important; }</style>\"))"
   ]
  },
  {
   "cell_type": "code",
   "execution_count": 47,
   "id": "248d12d0",
   "metadata": {
    "ExecuteTime": {
     "end_time": "2023-01-11T14:11:50.262747Z",
     "start_time": "2023-01-11T14:11:50.226703Z"
    }
   },
   "outputs": [],
   "source": []
  },
  {
   "cell_type": "code",
   "execution_count": 62,
   "id": "acb62399",
   "metadata": {
    "ExecuteTime": {
     "end_time": "2023-01-11T14:28:39.202704Z",
     "start_time": "2023-01-11T14:28:39.024185Z"
    }
   },
   "outputs": [
    {
     "data": {
      "text/plain": [
       "(308, 15)"
      ]
     },
     "execution_count": 62,
     "metadata": {},
     "output_type": "execute_result"
    }
   ],
   "source": [
    "data = pd.read_csv('C:/Users/pedro/OneDrive/Documentos/CURSOS/Python do DS ao DEV/products_hm.csv')\n",
    "\n",
    "# product id\n",
    "data = data.dropna(subset=['product_id'])\n",
    "data['product_id'] = data['product_id'].astype(int)\n",
    "\n",
    "# product name\n",
    "data['product_name'] = data['product_name'].apply(lambda x: x.replace(' ', '_').lower())\n",
    "\n",
    "# product price\n",
    "data['product_price'] = data['product_price'].apply(lambda x: x.replace('$', '')).astype(float)\n",
    "#\n",
    "# scrapy datetime\n",
    "data['scrapy_datetime'] = pd.to_datetime(data['scrapy_datetime'], format='%Y-%m-%d %H:%M:%S')\n",
    "\n",
    "# style id\n",
    "data['style_id'] = data['style_id'].astype(int)\n",
    "\n",
    "# color id\n",
    "data['color_id'] = data['color_id'].astype(int)\n",
    "\n",
    "# color name\n",
    "data['color_name'] = data['color_name'].apply(lambda x: x.replace(' ', '_').replace('/', '_').lower() if pd.notnull(x) else x)\n",
    "\n",
    "# fit\n",
    "data['fit'] = data['fit'].apply(lambda x: x.replace(' ', '_').lower() if pd.notnull(x) else x)\n",
    "\n",
    "# size number\n",
    "data['size_number'] = data['size'].apply(lambda x: re.search('\\d{3}cm', x).group(0) if pd.notnull(x) else x)\n",
    "data['size_number'] = data['size_number'].apply(lambda x: re.search('\\d+', x).group(0) if pd.notnull(x) else x)\n",
    "\n",
    "# size model\n",
    "data['size_model'] = data['size'].str.extract('(\\d+/\\\\d+)'\n",
    "                                             )\n",
    "\n",
    "\n",
    "# composition\n",
    "data = data[~data['composition'].str.contains('Pocket lining:', na=False)]\n",
    "data = data[~data['composition'].str.contains('Lining:', na=False)]\n",
    "data = data[~data['composition'].str.contains('Shell:', na=False)]\n",
    "\n",
    "# drop duplicates\n",
    "data = data.drop_duplicates(subset=['product_id', 'product_category', 'product_name', 'product_price',\n",
    "                                    'scrapy_datetime', 'style_id', 'color_id', 'color_name', 'fit'], keep='last')\n",
    "    \n",
    "# reset index\n",
    "data = data.reset_index(drop=True)\n",
    "\n",
    "# break composition by comma\n",
    "df1 = data['composition'].str.split(',', expand=True)\n",
    "\n",
    "# cotton | polyester | elastano | elasterell\n",
    "df_ref = pd.DataFrame(index=np.arange(len(data)), columns=['cotton', 'polyester', 'elastane', 'elasterell'])\n",
    "\n",
    "# cotton\n",
    "df_cotton = df1[0]\n",
    "df_cotton.name = 'cotton'\n",
    "\n",
    "df_ref = pd.concat([df_ref, df1[0]], axis=1)\n",
    "df_ref = df_ref.iloc[:, ~df_ref.columns.duplicated(keep='last')]\n",
    "df_ref['cotton'] = df_ref['cotton'].fillna('Cotton 0%')\n",
    "\n",
    "# polyester\n",
    "df_polyester = df1.loc[df1[1].str.contains('Polyester', na=True), 1]\n",
    "df_polyester.name = 'polyester'\n",
    "\n",
    "df_ref = pd.concat([df_ref, df_polyester], axis=1)\n",
    "df_ref = df_ref.iloc[:, ~df_ref.columns.duplicated(keep='last')]\n",
    "df_ref['polyester'] = df_ref['polyester'].fillna('polyester 0%')\n",
    "\n",
    "# elastano\n",
    "df_elastane = df1.loc[df1[1].str.contains('Elastane', na=True), 1]\n",
    "df_elastane.name = 'elastane'\n",
    "\n",
    "# combine elastane from both columns 1 and 2\n",
    "df_elastane = df_elastane.combine_first(df1[2])\n",
    "\n",
    "df_ref = pd.concat([df_ref, df_elastane], axis=1)\n",
    "df_ref = df_ref.iloc[:, ~df_ref.columns.duplicated(keep='last')]\n",
    "df_ref['elastane'] = df_ref['elastane'].fillna('Elastane 0%')\n",
    "\n",
    "# elasterell\n",
    "df_elasterell = df1.loc[df1[1].str.contains('Elasterell', na=True), 1]\n",
    "df_elasterell.name = 'elasterell'\n",
    "df_ref = pd.concat([df_ref, df_elasterell], axis=1)\n",
    "df_ref = df_ref.iloc[:, ~df_ref.columns.duplicated(keep='last')]\n",
    "df_ref['elasterell'] = df_ref['elasterell'].fillna('Elasterell 0%')\n",
    "\n",
    "# final join\n",
    "data = pd.concat([data, df_ref], axis=1)\n",
    "\n",
    "# format composition data\n",
    "data['cotton'] = data['cotton'].apply(lambda x: int(re.search('\\d+', x).group(0)) / 100 if pd.notnull(x) else x)\n",
    "data['polyester'] = data['polyester'].apply(lambda x: int(re.search('\\d+', x).group(0)) / 100 if pd.notnull(x) else x)\n",
    "data['elastane'] = data['elastane'].apply(lambda x: int(re.search('\\d+', x).group(0)) / 100 if pd.notnull(x) else x)\n",
    "data['elasterell'] = data['elasterell'].apply(lambda x: int(re.search('\\d+', x).group(0)) / 100 if pd.notnull(x) else x)\n",
    "\n",
    "# Drop columns\n",
    "data = data.drop(columns=['size', 'product safety', 'composition'], axis=1)\n",
    "\n",
    "# Drop duplicates\n",
    "data = data.drop_duplicates()\n",
    "data.shape"
   ]
  },
  {
   "cell_type": "code",
   "execution_count": 64,
   "id": "e8c6e6fb",
   "metadata": {
    "ExecuteTime": {
     "end_time": "2023-01-11T14:28:52.072207Z",
     "start_time": "2023-01-11T14:28:52.033002Z"
    }
   },
   "outputs": [
    {
     "data": {
      "text/html": [
       "<div>\n",
       "<style scoped>\n",
       "    .dataframe tbody tr th:only-of-type {\n",
       "        vertical-align: middle;\n",
       "    }\n",
       "\n",
       "    .dataframe tbody tr th {\n",
       "        vertical-align: top;\n",
       "    }\n",
       "\n",
       "    .dataframe thead th {\n",
       "        text-align: right;\n",
       "    }\n",
       "</style>\n",
       "<table border=\"1\" class=\"dataframe\">\n",
       "  <thead>\n",
       "    <tr style=\"text-align: right;\">\n",
       "      <th></th>\n",
       "      <th>product_id</th>\n",
       "      <th>product_category</th>\n",
       "      <th>product_name</th>\n",
       "      <th>product_price</th>\n",
       "      <th>scrapy_datetime</th>\n",
       "      <th>style_id</th>\n",
       "      <th>color_id</th>\n",
       "      <th>color_name</th>\n",
       "      <th>fit</th>\n",
       "      <th>size_number</th>\n",
       "      <th>size_model</th>\n",
       "      <th>cotton</th>\n",
       "      <th>polyester</th>\n",
       "      <th>elastane</th>\n",
       "      <th>elasterell</th>\n",
       "    </tr>\n",
       "  </thead>\n",
       "  <tbody>\n",
       "    <tr>\n",
       "      <th>0</th>\n",
       "      <td>636207006</td>\n",
       "      <td>men_jeans_slim</td>\n",
       "      <td>slim_jeans</td>\n",
       "      <td>19.99</td>\n",
       "      <td>2021-04-11 17:48:05</td>\n",
       "      <td>636207</td>\n",
       "      <td>6</td>\n",
       "      <td>white</td>\n",
       "      <td>slim_fit</td>\n",
       "      <td>187</td>\n",
       "      <td>31/32</td>\n",
       "      <td>0.99</td>\n",
       "      <td>0.0</td>\n",
       "      <td>0.01</td>\n",
       "      <td>0.0</td>\n",
       "    </tr>\n",
       "    <tr>\n",
       "      <th>1</th>\n",
       "      <td>636207006</td>\n",
       "      <td>men_jeans_slim</td>\n",
       "      <td>slim_jeans</td>\n",
       "      <td>19.99</td>\n",
       "      <td>2021-04-11 17:48:05</td>\n",
       "      <td>636207</td>\n",
       "      <td>6</td>\n",
       "      <td>dark_denim_blue</td>\n",
       "      <td>slim_fit</td>\n",
       "      <td>187</td>\n",
       "      <td>31/30</td>\n",
       "      <td>0.88</td>\n",
       "      <td>0.1</td>\n",
       "      <td>0.02</td>\n",
       "      <td>0.0</td>\n",
       "    </tr>\n",
       "    <tr>\n",
       "      <th>2</th>\n",
       "      <td>636207006</td>\n",
       "      <td>men_jeans_slim</td>\n",
       "      <td>slim_jeans</td>\n",
       "      <td>19.99</td>\n",
       "      <td>2021-04-11 17:48:05</td>\n",
       "      <td>636207</td>\n",
       "      <td>6</td>\n",
       "      <td>dark_gray_denim</td>\n",
       "      <td>slim_fit</td>\n",
       "      <td>187</td>\n",
       "      <td>31/30</td>\n",
       "      <td>0.88</td>\n",
       "      <td>0.1</td>\n",
       "      <td>0.02</td>\n",
       "      <td>0.0</td>\n",
       "    </tr>\n",
       "    <tr>\n",
       "      <th>3</th>\n",
       "      <td>636207006</td>\n",
       "      <td>men_jeans_slim</td>\n",
       "      <td>slim_jeans</td>\n",
       "      <td>19.99</td>\n",
       "      <td>2021-04-11 17:48:05</td>\n",
       "      <td>636207</td>\n",
       "      <td>6</td>\n",
       "      <td>gray</td>\n",
       "      <td>slim_fit</td>\n",
       "      <td>187</td>\n",
       "      <td>31/30</td>\n",
       "      <td>0.88</td>\n",
       "      <td>0.1</td>\n",
       "      <td>0.02</td>\n",
       "      <td>0.0</td>\n",
       "    </tr>\n",
       "    <tr>\n",
       "      <th>4</th>\n",
       "      <td>636207006</td>\n",
       "      <td>men_jeans_slim</td>\n",
       "      <td>slim_jeans</td>\n",
       "      <td>19.99</td>\n",
       "      <td>2021-04-11 17:48:05</td>\n",
       "      <td>636207</td>\n",
       "      <td>6</td>\n",
       "      <td>black</td>\n",
       "      <td>slim_fit</td>\n",
       "      <td>187</td>\n",
       "      <td>31/30</td>\n",
       "      <td>0.88</td>\n",
       "      <td>0.1</td>\n",
       "      <td>0.02</td>\n",
       "      <td>0.0</td>\n",
       "    </tr>\n",
       "  </tbody>\n",
       "</table>\n",
       "</div>"
      ],
      "text/plain": [
       "   product_id product_category product_name  product_price  \\\n",
       "0   636207006   men_jeans_slim   slim_jeans          19.99   \n",
       "1   636207006   men_jeans_slim   slim_jeans          19.99   \n",
       "2   636207006   men_jeans_slim   slim_jeans          19.99   \n",
       "3   636207006   men_jeans_slim   slim_jeans          19.99   \n",
       "4   636207006   men_jeans_slim   slim_jeans          19.99   \n",
       "\n",
       "      scrapy_datetime  style_id  color_id       color_name       fit  \\\n",
       "0 2021-04-11 17:48:05    636207         6            white  slim_fit   \n",
       "1 2021-04-11 17:48:05    636207         6  dark_denim_blue  slim_fit   \n",
       "2 2021-04-11 17:48:05    636207         6  dark_gray_denim  slim_fit   \n",
       "3 2021-04-11 17:48:05    636207         6             gray  slim_fit   \n",
       "4 2021-04-11 17:48:05    636207         6            black  slim_fit   \n",
       "\n",
       "  size_number size_model  cotton  polyester  elastane  elasterell  \n",
       "0         187      31/32    0.99        0.0      0.01         0.0  \n",
       "1         187      31/30    0.88        0.1      0.02         0.0  \n",
       "2         187      31/30    0.88        0.1      0.02         0.0  \n",
       "3         187      31/30    0.88        0.1      0.02         0.0  \n",
       "4         187      31/30    0.88        0.1      0.02         0.0  "
      ]
     },
     "execution_count": 64,
     "metadata": {},
     "output_type": "execute_result"
    }
   ],
   "source": [
    "data.head(5)"
   ]
  },
  {
   "cell_type": "code",
   "execution_count": 65,
   "id": "9c3d9d5c",
   "metadata": {
    "ExecuteTime": {
     "end_time": "2023-01-11T14:28:58.439092Z",
     "start_time": "2023-01-11T14:28:58.416899Z"
    }
   },
   "outputs": [
    {
     "data": {
      "text/plain": [
       "product_id                   int32\n",
       "product_category            object\n",
       "product_name                object\n",
       "product_price              float64\n",
       "scrapy_datetime     datetime64[ns]\n",
       "style_id                     int32\n",
       "color_id                     int32\n",
       "color_name                  object\n",
       "fit                         object\n",
       "size_number                 object\n",
       "size_model                  object\n",
       "cotton                     float64\n",
       "polyester                  float64\n",
       "elastane                   float64\n",
       "elasterell                 float64\n",
       "dtype: object"
      ]
     },
     "execution_count": 65,
     "metadata": {},
     "output_type": "execute_result"
    }
   ],
   "source": [
    "data.dtypes"
   ]
  },
  {
   "cell_type": "code",
   "execution_count": null,
   "id": "8f4b6177",
   "metadata": {},
   "outputs": [],
   "source": []
  },
  {
   "cell_type": "code",
   "execution_count": null,
   "id": "022f8a70",
   "metadata": {},
   "outputs": [],
   "source": []
  },
  {
   "cell_type": "code",
   "execution_count": null,
   "id": "03042720",
   "metadata": {},
   "outputs": [],
   "source": []
  }
 ],
 "metadata": {
  "hide_input": false,
  "kernelspec": {
   "display_name": "Python 3 (ipykernel)",
   "language": "python",
   "name": "python3"
  },
  "language_info": {
   "codemirror_mode": {
    "name": "ipython",
    "version": 3
   },
   "file_extension": ".py",
   "mimetype": "text/x-python",
   "name": "python",
   "nbconvert_exporter": "python",
   "pygments_lexer": "ipython3",
   "version": "3.9.7"
  },
  "varInspector": {
   "cols": {
    "lenName": 16,
    "lenType": 16,
    "lenVar": 40
   },
   "kernels_config": {
    "python": {
     "delete_cmd_postfix": "",
     "delete_cmd_prefix": "del ",
     "library": "var_list.py",
     "varRefreshCmd": "print(var_dic_list())"
    },
    "r": {
     "delete_cmd_postfix": ") ",
     "delete_cmd_prefix": "rm(",
     "library": "var_list.r",
     "varRefreshCmd": "cat(var_dic_list()) "
    }
   },
   "types_to_exclude": [
    "module",
    "function",
    "builtin_function_or_method",
    "instance",
    "_Feature"
   ],
   "window_display": false
  }
 },
 "nbformat": 4,
 "nbformat_minor": 5
}
