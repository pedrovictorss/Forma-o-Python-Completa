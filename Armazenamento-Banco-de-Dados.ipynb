{
 "cells": [
  {
   "cell_type": "code",
   "execution_count": 1,
   "id": "d931d28e",
   "metadata": {
    "ExecuteTime": {
     "end_time": "2023-01-12T17:11:50.325207Z",
     "start_time": "2023-01-12T17:11:49.659596Z"
    }
   },
   "outputs": [],
   "source": [
    "import pandas as pd"
   ]
  },
  {
   "cell_type": "code",
   "execution_count": 2,
   "id": "fb7b4418",
   "metadata": {
    "ExecuteTime": {
     "end_time": "2023-01-12T17:11:50.372710Z",
     "start_time": "2023-01-12T17:11:50.330289Z"
    }
   },
   "outputs": [],
   "source": [
    "data = pd.read_csv('C:/Users/pedro/OneDrive/Documentos/CURSOS/Python do DS ao DEV/products_hm_cleaned.csv/products_hm_cleaned.csv')"
   ]
  },
  {
   "cell_type": "code",
   "execution_count": 3,
   "id": "a34a0661",
   "metadata": {
    "ExecuteTime": {
     "end_time": "2023-01-12T17:11:50.419789Z",
     "start_time": "2023-01-12T17:11:50.376598Z"
    }
   },
   "outputs": [
    {
     "data": {
      "text/html": [
       "<div>\n",
       "<style scoped>\n",
       "    .dataframe tbody tr th:only-of-type {\n",
       "        vertical-align: middle;\n",
       "    }\n",
       "\n",
       "    .dataframe tbody tr th {\n",
       "        vertical-align: top;\n",
       "    }\n",
       "\n",
       "    .dataframe thead th {\n",
       "        text-align: right;\n",
       "    }\n",
       "</style>\n",
       "<table border=\"1\" class=\"dataframe\">\n",
       "  <thead>\n",
       "    <tr style=\"text-align: right;\">\n",
       "      <th></th>\n",
       "      <th>product_id</th>\n",
       "      <th>product_category</th>\n",
       "      <th>product_name</th>\n",
       "      <th>product_price</th>\n",
       "      <th>scrapy_datetime</th>\n",
       "      <th>style_id</th>\n",
       "      <th>color_name</th>\n",
       "      <th>fit</th>\n",
       "      <th>size_number</th>\n",
       "      <th>size_model</th>\n",
       "      <th>cotton</th>\n",
       "      <th>polyester</th>\n",
       "      <th>elastane</th>\n",
       "      <th>elasterell</th>\n",
       "    </tr>\n",
       "  </thead>\n",
       "  <tbody>\n",
       "    <tr>\n",
       "      <th>0</th>\n",
       "      <td>636207006</td>\n",
       "      <td>men_jeans_slim</td>\n",
       "      <td>slim_jeans</td>\n",
       "      <td>19.99</td>\n",
       "      <td>2021-04-11 17:48:05</td>\n",
       "      <td>636207</td>\n",
       "      <td>white</td>\n",
       "      <td>slim_fit</td>\n",
       "      <td>187.0</td>\n",
       "      <td>31/32</td>\n",
       "      <td>0.99</td>\n",
       "      <td>0.0</td>\n",
       "      <td>0.01</td>\n",
       "      <td>0.0</td>\n",
       "    </tr>\n",
       "    <tr>\n",
       "      <th>1</th>\n",
       "      <td>636207006</td>\n",
       "      <td>men_jeans_slim</td>\n",
       "      <td>slim_jeans</td>\n",
       "      <td>19.99</td>\n",
       "      <td>2021-04-11 17:48:05</td>\n",
       "      <td>636207</td>\n",
       "      <td>dark_denim_blue</td>\n",
       "      <td>slim_fit</td>\n",
       "      <td>187.0</td>\n",
       "      <td>31/30</td>\n",
       "      <td>0.88</td>\n",
       "      <td>0.1</td>\n",
       "      <td>0.02</td>\n",
       "      <td>0.0</td>\n",
       "    </tr>\n",
       "    <tr>\n",
       "      <th>2</th>\n",
       "      <td>636207006</td>\n",
       "      <td>men_jeans_slim</td>\n",
       "      <td>slim_jeans</td>\n",
       "      <td>19.99</td>\n",
       "      <td>2021-04-11 17:48:05</td>\n",
       "      <td>636207</td>\n",
       "      <td>dark_gray_denim</td>\n",
       "      <td>slim_fit</td>\n",
       "      <td>187.0</td>\n",
       "      <td>31/30</td>\n",
       "      <td>0.88</td>\n",
       "      <td>0.1</td>\n",
       "      <td>0.02</td>\n",
       "      <td>0.0</td>\n",
       "    </tr>\n",
       "    <tr>\n",
       "      <th>3</th>\n",
       "      <td>636207006</td>\n",
       "      <td>men_jeans_slim</td>\n",
       "      <td>slim_jeans</td>\n",
       "      <td>19.99</td>\n",
       "      <td>2021-04-11 17:48:05</td>\n",
       "      <td>636207</td>\n",
       "      <td>gray</td>\n",
       "      <td>slim_fit</td>\n",
       "      <td>187.0</td>\n",
       "      <td>31/30</td>\n",
       "      <td>0.88</td>\n",
       "      <td>0.1</td>\n",
       "      <td>0.02</td>\n",
       "      <td>0.0</td>\n",
       "    </tr>\n",
       "    <tr>\n",
       "      <th>4</th>\n",
       "      <td>636207006</td>\n",
       "      <td>men_jeans_slim</td>\n",
       "      <td>slim_jeans</td>\n",
       "      <td>19.99</td>\n",
       "      <td>2021-04-11 17:48:05</td>\n",
       "      <td>636207</td>\n",
       "      <td>black</td>\n",
       "      <td>slim_fit</td>\n",
       "      <td>187.0</td>\n",
       "      <td>31/30</td>\n",
       "      <td>0.88</td>\n",
       "      <td>0.1</td>\n",
       "      <td>0.02</td>\n",
       "      <td>0.0</td>\n",
       "    </tr>\n",
       "  </tbody>\n",
       "</table>\n",
       "</div>"
      ],
      "text/plain": [
       "   product_id product_category product_name  product_price  \\\n",
       "0   636207006   men_jeans_slim   slim_jeans          19.99   \n",
       "1   636207006   men_jeans_slim   slim_jeans          19.99   \n",
       "2   636207006   men_jeans_slim   slim_jeans          19.99   \n",
       "3   636207006   men_jeans_slim   slim_jeans          19.99   \n",
       "4   636207006   men_jeans_slim   slim_jeans          19.99   \n",
       "\n",
       "       scrapy_datetime  style_id       color_name       fit  size_number  \\\n",
       "0  2021-04-11 17:48:05    636207            white  slim_fit        187.0   \n",
       "1  2021-04-11 17:48:05    636207  dark_denim_blue  slim_fit        187.0   \n",
       "2  2021-04-11 17:48:05    636207  dark_gray_denim  slim_fit        187.0   \n",
       "3  2021-04-11 17:48:05    636207             gray  slim_fit        187.0   \n",
       "4  2021-04-11 17:48:05    636207            black  slim_fit        187.0   \n",
       "\n",
       "  size_model  cotton  polyester  elastane  elasterell  \n",
       "0      31/32    0.99        0.0      0.01         0.0  \n",
       "1      31/30    0.88        0.1      0.02         0.0  \n",
       "2      31/30    0.88        0.1      0.02         0.0  \n",
       "3      31/30    0.88        0.1      0.02         0.0  \n",
       "4      31/30    0.88        0.1      0.02         0.0  "
      ]
     },
     "execution_count": 3,
     "metadata": {},
     "output_type": "execute_result"
    }
   ],
   "source": [
    "data.head()"
   ]
  },
  {
   "cell_type": "code",
   "execution_count": 4,
   "id": "6722eb6d",
   "metadata": {
    "ExecuteTime": {
     "end_time": "2023-01-12T17:11:50.435036Z",
     "start_time": "2023-01-12T17:11:50.424291Z"
    }
   },
   "outputs": [],
   "source": [
    "import sqlite3"
   ]
  },
  {
   "cell_type": "code",
   "execution_count": 7,
   "id": "bbc494e2",
   "metadata": {
    "ExecuteTime": {
     "end_time": "2023-01-12T17:12:11.576083Z",
     "start_time": "2023-01-12T17:12:11.560448Z"
    }
   },
   "outputs": [],
   "source": [
    "query_showroom_schema = \"\"\" \n",
    "    CREATE TABLE vitrine (\n",
    "       product_id          INTEGER, \n",
    "       product_category       TEXT, \n",
    "       product_name           TEXT, \n",
    "       product_price          REAL,\n",
    "       scrapy_datetime        TEXT, \n",
    "       style_id            INTEGER, \n",
    "       color_name             TEXT, \n",
    "       fit                    TEXT, \n",
    "       size_number            REAL,\n",
    "       size_model             TEXT, \n",
    "       cotton                 REAL, \n",
    "       polyester              REAL, \n",
    "       elastane               REAL, \n",
    "       elasterell             REAL    \n",
    "    )\n",
    "\"\"\"\n"
   ]
  },
  {
   "cell_type": "code",
   "execution_count": 8,
   "id": "782391c3",
   "metadata": {
    "ExecuteTime": {
     "end_time": "2023-01-12T17:12:13.051957Z",
     "start_time": "2023-01-12T17:12:13.017349Z"
    }
   },
   "outputs": [
    {
     "ename": "OperationalError",
     "evalue": "table vitrine already exists",
     "output_type": "error",
     "traceback": [
      "\u001b[1;31m---------------------------------------------------------------------------\u001b[0m",
      "\u001b[1;31mOperationalError\u001b[0m                          Traceback (most recent call last)",
      "Cell \u001b[1;32mIn[8], line 3\u001b[0m\n\u001b[0;32m      1\u001b[0m \u001b[38;5;66;03m# connect to dataset\u001b[39;00m\n\u001b[0;32m      2\u001b[0m conn \u001b[38;5;241m=\u001b[39m sqlite3\u001b[38;5;241m.\u001b[39mconnect(\u001b[38;5;124m'\u001b[39m\u001b[38;5;124mhm_db.sqlite\u001b[39m\u001b[38;5;124m'\u001b[39m)\n\u001b[1;32m----> 3\u001b[0m cursor \u001b[38;5;241m=\u001b[39m \u001b[43mconn\u001b[49m\u001b[38;5;241;43m.\u001b[39;49m\u001b[43mexecute\u001b[49m\u001b[43m(\u001b[49m\u001b[43mquery_showroom_schema\u001b[49m\u001b[43m)\u001b[49m\n\u001b[0;32m      4\u001b[0m conn\u001b[38;5;241m.\u001b[39mcommit()\n\u001b[0;32m      5\u001b[0m conn\u001b[38;5;241m.\u001b[39mclose()\n",
      "\u001b[1;31mOperationalError\u001b[0m: table vitrine already exists"
     ]
    }
   ],
   "source": [
    "# connect to dataset\n",
    "conn = sqlite3.connect('hm_db.sqlite')\n",
    "cursor = conn.execute(query_showroom_schema)\n",
    "conn.commit()\n",
    "conn.close()"
   ]
  },
  {
   "cell_type": "code",
   "execution_count": 9,
   "id": "632037d3",
   "metadata": {
    "ExecuteTime": {
     "end_time": "2023-01-12T17:13:00.000672Z",
     "start_time": "2023-01-12T17:12:59.687600Z"
    }
   },
   "outputs": [],
   "source": [
    "from sqlalchemy import create_engine"
   ]
  },
  {
   "cell_type": "code",
   "execution_count": 10,
   "id": "35c01959",
   "metadata": {
    "ExecuteTime": {
     "end_time": "2023-01-12T17:13:01.360069Z",
     "start_time": "2023-01-12T17:13:01.317621Z"
    }
   },
   "outputs": [],
   "source": [
    "conn = create_engine('sqlite:///hm_db.sqlite', echo=False)"
   ]
  },
  {
   "cell_type": "code",
   "execution_count": 11,
   "id": "70e7b792",
   "metadata": {
    "ExecuteTime": {
     "end_time": "2023-01-12T17:13:02.788450Z",
     "start_time": "2023-01-12T17:13:02.741776Z"
    }
   },
   "outputs": [
    {
     "data": {
      "text/html": [
       "<div>\n",
       "<style scoped>\n",
       "    .dataframe tbody tr th:only-of-type {\n",
       "        vertical-align: middle;\n",
       "    }\n",
       "\n",
       "    .dataframe tbody tr th {\n",
       "        vertical-align: top;\n",
       "    }\n",
       "\n",
       "    .dataframe thead th {\n",
       "        text-align: right;\n",
       "    }\n",
       "</style>\n",
       "<table border=\"1\" class=\"dataframe\">\n",
       "  <thead>\n",
       "    <tr style=\"text-align: right;\">\n",
       "      <th></th>\n",
       "      <th>product_id</th>\n",
       "      <th>product_category</th>\n",
       "      <th>product_name</th>\n",
       "      <th>product_price</th>\n",
       "      <th>scrapy_datetime</th>\n",
       "      <th>style_id</th>\n",
       "      <th>color_name</th>\n",
       "      <th>fit</th>\n",
       "      <th>size_number</th>\n",
       "      <th>size_model</th>\n",
       "      <th>cotton</th>\n",
       "      <th>polyester</th>\n",
       "      <th>elastane</th>\n",
       "      <th>elasterell</th>\n",
       "    </tr>\n",
       "  </thead>\n",
       "  <tbody>\n",
       "    <tr>\n",
       "      <th>0</th>\n",
       "      <td>636207006</td>\n",
       "      <td>men_jeans_slim</td>\n",
       "      <td>slim_jeans</td>\n",
       "      <td>19.99</td>\n",
       "      <td>2021-04-11 17:48:05</td>\n",
       "      <td>636207</td>\n",
       "      <td>white</td>\n",
       "      <td>slim_fit</td>\n",
       "      <td>187.0</td>\n",
       "      <td>31/32</td>\n",
       "      <td>0.99</td>\n",
       "      <td>0.0</td>\n",
       "      <td>0.01</td>\n",
       "      <td>0.0</td>\n",
       "    </tr>\n",
       "    <tr>\n",
       "      <th>1</th>\n",
       "      <td>636207006</td>\n",
       "      <td>men_jeans_slim</td>\n",
       "      <td>slim_jeans</td>\n",
       "      <td>19.99</td>\n",
       "      <td>2021-04-11 17:48:05</td>\n",
       "      <td>636207</td>\n",
       "      <td>dark_denim_blue</td>\n",
       "      <td>slim_fit</td>\n",
       "      <td>187.0</td>\n",
       "      <td>31/30</td>\n",
       "      <td>0.88</td>\n",
       "      <td>0.1</td>\n",
       "      <td>0.02</td>\n",
       "      <td>0.0</td>\n",
       "    </tr>\n",
       "    <tr>\n",
       "      <th>2</th>\n",
       "      <td>636207006</td>\n",
       "      <td>men_jeans_slim</td>\n",
       "      <td>slim_jeans</td>\n",
       "      <td>19.99</td>\n",
       "      <td>2021-04-11 17:48:05</td>\n",
       "      <td>636207</td>\n",
       "      <td>dark_gray_denim</td>\n",
       "      <td>slim_fit</td>\n",
       "      <td>187.0</td>\n",
       "      <td>31/30</td>\n",
       "      <td>0.88</td>\n",
       "      <td>0.1</td>\n",
       "      <td>0.02</td>\n",
       "      <td>0.0</td>\n",
       "    </tr>\n",
       "    <tr>\n",
       "      <th>3</th>\n",
       "      <td>636207006</td>\n",
       "      <td>men_jeans_slim</td>\n",
       "      <td>slim_jeans</td>\n",
       "      <td>19.99</td>\n",
       "      <td>2021-04-11 17:48:05</td>\n",
       "      <td>636207</td>\n",
       "      <td>gray</td>\n",
       "      <td>slim_fit</td>\n",
       "      <td>187.0</td>\n",
       "      <td>31/30</td>\n",
       "      <td>0.88</td>\n",
       "      <td>0.1</td>\n",
       "      <td>0.02</td>\n",
       "      <td>0.0</td>\n",
       "    </tr>\n",
       "    <tr>\n",
       "      <th>4</th>\n",
       "      <td>636207006</td>\n",
       "      <td>men_jeans_slim</td>\n",
       "      <td>slim_jeans</td>\n",
       "      <td>19.99</td>\n",
       "      <td>2021-04-11 17:48:05</td>\n",
       "      <td>636207</td>\n",
       "      <td>black</td>\n",
       "      <td>slim_fit</td>\n",
       "      <td>187.0</td>\n",
       "      <td>31/30</td>\n",
       "      <td>0.88</td>\n",
       "      <td>0.1</td>\n",
       "      <td>0.02</td>\n",
       "      <td>0.0</td>\n",
       "    </tr>\n",
       "  </tbody>\n",
       "</table>\n",
       "</div>"
      ],
      "text/plain": [
       "   product_id product_category product_name  product_price  \\\n",
       "0   636207006   men_jeans_slim   slim_jeans          19.99   \n",
       "1   636207006   men_jeans_slim   slim_jeans          19.99   \n",
       "2   636207006   men_jeans_slim   slim_jeans          19.99   \n",
       "3   636207006   men_jeans_slim   slim_jeans          19.99   \n",
       "4   636207006   men_jeans_slim   slim_jeans          19.99   \n",
       "\n",
       "       scrapy_datetime  style_id       color_name       fit  size_number  \\\n",
       "0  2021-04-11 17:48:05    636207            white  slim_fit        187.0   \n",
       "1  2021-04-11 17:48:05    636207  dark_denim_blue  slim_fit        187.0   \n",
       "2  2021-04-11 17:48:05    636207  dark_gray_denim  slim_fit        187.0   \n",
       "3  2021-04-11 17:48:05    636207             gray  slim_fit        187.0   \n",
       "4  2021-04-11 17:48:05    636207            black  slim_fit        187.0   \n",
       "\n",
       "  size_model  cotton  polyester  elastane  elasterell  \n",
       "0      31/32    0.99        0.0      0.01         0.0  \n",
       "1      31/30    0.88        0.1      0.02         0.0  \n",
       "2      31/30    0.88        0.1      0.02         0.0  \n",
       "3      31/30    0.88        0.1      0.02         0.0  \n",
       "4      31/30    0.88        0.1      0.02         0.0  "
      ]
     },
     "execution_count": 11,
     "metadata": {},
     "output_type": "execute_result"
    }
   ],
   "source": [
    "query = \"\"\"\n",
    "SELECT * FROM vitrine_two\n",
    "\"\"\"\n",
    "df = pd.read_sql_query( query, conn )\n",
    "df.head()"
   ]
  },
  {
   "cell_type": "code",
   "execution_count": 12,
   "id": "5b013286",
   "metadata": {
    "ExecuteTime": {
     "end_time": "2023-01-12T17:13:04.816681Z",
     "start_time": "2023-01-12T17:13:04.759860Z"
    }
   },
   "outputs": [
    {
     "data": {
      "text/plain": [
       "308"
      ]
     },
     "execution_count": 12,
     "metadata": {},
     "output_type": "execute_result"
    }
   ],
   "source": [
    "# insert data to table\n",
    "data.to_sql('vitrine', con=conn, if_exists='append', index=False)"
   ]
  },
  {
   "cell_type": "code",
   "execution_count": null,
   "id": "7e0d297b",
   "metadata": {
    "ExecuteTime": {
     "end_time": "2023-01-12T17:11:51.446369Z",
     "start_time": "2023-01-12T17:11:51.446369Z"
    }
   },
   "outputs": [],
   "source": [
    "# Command - UPDATE\n",
    "#query = \"\"\"\n",
    "#    UPDATE vitrine\n",
    "#    SET product_category = 'jeans'\n",
    "#    WHERE product_id = 636207006\n",
    "#\"\"\"\n",
    "\n",
    "# Command - DROP\n",
    "#query = \"\"\"\n",
    "#    DROP TABLE vitrine\n",
    "#\"\"\"\n",
    "\n",
    "# Command - ALTER TABLE\n",
    "#query = \"\"\"\n",
    "#    ALTER TABLE vitrine\n",
    "#    RENAME TO vitrine_two\n",
    "#\"\"\"\n",
    "\n",
    "# Command - CREATE INDEX\n",
    "#query = \"\"\"\n",
    "#    CREATE INDEX idx_product_id\n",
    "#    ON vitrine_two (product_id)\n",
    "#\"\"\"\n",
    "\n",
    "#conn = sqlite3.connect('hm_db.sqlite')\n",
    "#cursor = conn.execute(query)\n",
    "#conn.commit()"
   ]
  },
  {
   "cell_type": "code",
   "execution_count": null,
   "id": "df82ac22",
   "metadata": {},
   "outputs": [],
   "source": []
  },
  {
   "cell_type": "code",
   "execution_count": null,
   "id": "3f508d0f",
   "metadata": {},
   "outputs": [],
   "source": []
  },
  {
   "cell_type": "code",
   "execution_count": null,
   "id": "b8a25fe4",
   "metadata": {},
   "outputs": [],
   "source": []
  },
  {
   "cell_type": "code",
   "execution_count": null,
   "id": "7c2e0600",
   "metadata": {},
   "outputs": [],
   "source": []
  },
  {
   "cell_type": "code",
   "execution_count": null,
   "id": "7988f9ca",
   "metadata": {},
   "outputs": [],
   "source": []
  }
 ],
 "metadata": {
  "hide_input": false,
  "kernelspec": {
   "display_name": "Python 3 (ipykernel)",
   "language": "python",
   "name": "python3"
  },
  "language_info": {
   "codemirror_mode": {
    "name": "ipython",
    "version": 3
   },
   "file_extension": ".py",
   "mimetype": "text/x-python",
   "name": "python",
   "nbconvert_exporter": "python",
   "pygments_lexer": "ipython3",
   "version": "3.9.7"
  },
  "varInspector": {
   "cols": {
    "lenName": 16,
    "lenType": 16,
    "lenVar": 40
   },
   "kernels_config": {
    "python": {
     "delete_cmd_postfix": "",
     "delete_cmd_prefix": "del ",
     "library": "var_list.py",
     "varRefreshCmd": "print(var_dic_list())"
    },
    "r": {
     "delete_cmd_postfix": ") ",
     "delete_cmd_prefix": "rm(",
     "library": "var_list.r",
     "varRefreshCmd": "cat(var_dic_list()) "
    }
   },
   "types_to_exclude": [
    "module",
    "function",
    "builtin_function_or_method",
    "instance",
    "_Feature"
   ],
   "window_display": false
  }
 },
 "nbformat": 4,
 "nbformat_minor": 5
}
