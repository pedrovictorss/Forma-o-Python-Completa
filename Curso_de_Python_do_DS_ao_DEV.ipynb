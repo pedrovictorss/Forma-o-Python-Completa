{
 "cells": [
  {
   "cell_type": "markdown",
   "id": "df5cddca",
   "metadata": {},
   "source": [
    "# Modulo 05 - Extração de Dados em HTML"
   ]
  },
  {
   "cell_type": "markdown",
   "id": "840132af",
   "metadata": {
    "heading_collapsed": true
   },
   "source": [
    "## A biblioteca Beautiful Soup - Teoria"
   ]
  },
  {
   "cell_type": "code",
   "execution_count": 2,
   "id": "e82292a3",
   "metadata": {
    "ExecuteTime": {
     "end_time": "2023-01-05T14:14:52.600574Z",
     "start_time": "2023-01-05T14:14:52.322471Z"
    },
    "hidden": true
   },
   "outputs": [],
   "source": [
    "from bs4 import BeautifulSoup"
   ]
  },
  {
   "cell_type": "code",
   "execution_count": 1,
   "id": "a539dc66",
   "metadata": {
    "ExecuteTime": {
     "end_time": "2023-01-05T14:14:24.888148Z",
     "start_time": "2023-01-05T14:14:24.871503Z"
    },
    "hidden": true
   },
   "outputs": [],
   "source": [
    "html_doc = \"\"\"<html><head><title>The Dormouse's story</title></head>\n",
    "<body>\n",
    "<p class=\"title\"><b>The Dormouse's story</b></p>\n",
    "\n",
    "<p class=\"story\">Once upon a time there were three little sisters; and their names were\n",
    "<a href=\"http://example.com/elsie\" class=\"sister\" id=\"link1\">Elsie</a>,\n",
    "<a href=\"http://example.com/lacie\" class=\"sister\" id=\"link2\">Lacie</a> and\n",
    "<a href=\"http://example.com/tillie\" class=\"sister\" id=\"link3\">Tillie</a>;\n",
    "and they lived at the bottom of a well.</p>\n",
    "\n",
    "<p class=\"story\">...</p>\n",
    "\"\"\""
   ]
  },
  {
   "cell_type": "code",
   "execution_count": 4,
   "id": "89bf0fd9",
   "metadata": {
    "ExecuteTime": {
     "end_time": "2023-01-05T14:15:33.119615Z",
     "start_time": "2023-01-05T14:15:33.105968Z"
    },
    "hidden": true
   },
   "outputs": [],
   "source": [
    "soup = BeautifulSoup(html_doc, 'html.parser')"
   ]
  },
  {
   "cell_type": "code",
   "execution_count": 9,
   "id": "84d8de49",
   "metadata": {
    "ExecuteTime": {
     "end_time": "2023-01-05T14:19:51.785711Z",
     "start_time": "2023-01-05T14:19:51.778026Z"
    },
    "hidden": true
   },
   "outputs": [
    {
     "name": "stdout",
     "output_type": "stream",
     "text": [
      "<body>\n",
      "<p class=\"title\"><b>The Dormouse's story</b></p>\n",
      "<p class=\"story\">Once upon a time there were three little sisters; and their names were\n",
      "<a class=\"sister\" href=\"http://example.com/elsie\" id=\"link1\">Elsie</a>,\n",
      "<a class=\"sister\" href=\"http://example.com/lacie\" id=\"link2\">Lacie</a> and\n",
      "<a class=\"sister\" href=\"http://example.com/tillie\" id=\"link3\">Tillie</a>;\n",
      "and they lived at the bottom of a well.</p>\n",
      "<p class=\"story\">...</p>\n",
      "</body>\n"
     ]
    }
   ],
   "source": [
    "print(soup.body)"
   ]
  },
  {
   "cell_type": "code",
   "execution_count": 18,
   "id": "3663092f",
   "metadata": {
    "ExecuteTime": {
     "end_time": "2023-01-05T14:23:01.262689Z",
     "start_time": "2023-01-05T14:23:01.251661Z"
    },
    "hidden": true
   },
   "outputs": [
    {
     "data": {
      "text/plain": [
       "<a class=\"sister\" href=\"http://example.com/elsie\" id=\"link1\">Elsie</a>"
      ]
     },
     "execution_count": 18,
     "metadata": {},
     "output_type": "execute_result"
    }
   ],
   "source": [
    "soup.find_all('a', id= 'link1')[0]"
   ]
  },
  {
   "cell_type": "markdown",
   "id": "ce0e532f",
   "metadata": {},
   "source": [
    "## A biblioteca Beautiful Soup - Prática I"
   ]
  },
  {
   "cell_type": "code",
   "execution_count": 51,
   "id": "317b0f1d",
   "metadata": {
    "ExecuteTime": {
     "end_time": "2023-01-05T18:48:59.230803Z",
     "start_time": "2023-01-05T18:48:59.217479Z"
    }
   },
   "outputs": [],
   "source": [
    "import requests\n",
    "import pandas as pd\n",
    "from datetime import datetime\n",
    "import numpy as np"
   ]
  },
  {
   "cell_type": "code",
   "execution_count": 20,
   "id": "1cc3418b",
   "metadata": {
    "ExecuteTime": {
     "end_time": "2023-01-05T14:34:30.099765Z",
     "start_time": "2023-01-05T14:34:29.233143Z"
    }
   },
   "outputs": [],
   "source": [
    "url = 'https://www2.hm.com/en_us/men/products/jeans.html'\n",
    "\n",
    "headers = {'User-Agent': 'Mozilla/5.0 (Macintosh; Intel Mac OS X 10_11_5) AppleWebKit/537.36 (KHTML, like Gecko) Chrome/50.0.2661.102 Safari/537.36'}\n",
    "page = requests.get(url, headers=headers)"
   ]
  },
  {
   "cell_type": "code",
   "execution_count": 23,
   "id": "7905a3ae",
   "metadata": {
    "ExecuteTime": {
     "end_time": "2023-01-05T14:35:18.702536Z",
     "start_time": "2023-01-05T14:35:18.435504Z"
    }
   },
   "outputs": [],
   "source": [
    "soup = BeautifulSoup(page.text, 'html.parser')"
   ]
  },
  {
   "cell_type": "code",
   "execution_count": 24,
   "id": "64e2f794",
   "metadata": {
    "ExecuteTime": {
     "end_time": "2023-01-05T14:38:49.909344Z",
     "start_time": "2023-01-05T14:38:49.891358Z"
    }
   },
   "outputs": [],
   "source": [
    "products = soup.find('ul', class_='products-listing small')"
   ]
  },
  {
   "cell_type": "code",
   "execution_count": 29,
   "id": "04289bce",
   "metadata": {
    "ExecuteTime": {
     "end_time": "2023-01-05T14:49:48.928452Z",
     "start_time": "2023-01-05T14:49:48.902636Z"
    }
   },
   "outputs": [],
   "source": [
    "product_list = products.find_all('article', class_='hm-product-item')\n",
    "\n",
    "# product id\n",
    "product_id = [p.get('data-articlecode') for p in product_list]\n",
    "\n",
    "# product category\n",
    "product_category = [p.get('data-category') for p in product_list]"
   ]
  },
  {
   "cell_type": "code",
   "execution_count": 33,
   "id": "6c0e057d",
   "metadata": {
    "ExecuteTime": {
     "end_time": "2023-01-05T14:51:28.495388Z",
     "start_time": "2023-01-05T14:51:28.468925Z"
    }
   },
   "outputs": [],
   "source": [
    "product_list = products.find_all('a', class_='link')\n",
    "\n",
    "# product name\n",
    "product_name = [p.get_text() for p in product_list]"
   ]
  },
  {
   "cell_type": "code",
   "execution_count": 77,
   "id": "8516c985",
   "metadata": {
    "ExecuteTime": {
     "end_time": "2023-01-05T20:21:58.866002Z",
     "start_time": "2023-01-05T20:21:58.855556Z"
    }
   },
   "outputs": [],
   "source": [
    "# price\n",
    "product_list = products.find_all('span', class_='price regular')\n",
    "product_price = [p.get_text() for p in product_list]"
   ]
  },
  {
   "cell_type": "code",
   "execution_count": 40,
   "id": "c0342b3b",
   "metadata": {
    "ExecuteTime": {
     "end_time": "2023-01-05T14:55:02.908733Z",
     "start_time": "2023-01-05T14:55:02.900565Z"
    }
   },
   "outputs": [],
   "source": [
    "# product color"
   ]
  },
  {
   "cell_type": "code",
   "execution_count": 41,
   "id": "e67fafa6",
   "metadata": {
    "ExecuteTime": {
     "end_time": "2023-01-05T14:55:14.934663Z",
     "start_time": "2023-01-05T14:55:14.916657Z"
    }
   },
   "outputs": [],
   "source": [
    "# product composition"
   ]
  },
  {
   "cell_type": "code",
   "execution_count": 46,
   "id": "3ce3bfe8",
   "metadata": {
    "ExecuteTime": {
     "end_time": "2023-01-05T14:58:52.213401Z",
     "start_time": "2023-01-05T14:58:52.163387Z"
    }
   },
   "outputs": [],
   "source": [
    "data = pd.DataFrame([product_id, product_category, product_name, product_price]).T\n",
    "data.columns = ['product_id', 'product_category', 'product_name', 'product_price']\n",
    "\n",
    "# scrapy datetime\n",
    "data['scrapy_datetime'] = datetime.now().strftime('%Y-%m-%d %H:%M:%S')"
   ]
  },
  {
   "cell_type": "markdown",
   "id": "6ad28372",
   "metadata": {},
   "source": [
    "## A biblioteca Beautiful Soup - Prática II"
   ]
  },
  {
   "cell_type": "code",
   "execution_count": 47,
   "id": "737183fb",
   "metadata": {
    "ExecuteTime": {
     "end_time": "2023-01-05T18:21:45.554117Z",
     "start_time": "2023-01-05T18:21:43.265813Z"
    }
   },
   "outputs": [],
   "source": [
    "url = 'https://www2.hm.com/en_us/men/products/jeans.html'\n",
    "headers = {'User-Agent': 'Mozilla/5.0 (Macintosh; Intel Mac OS X 10_11_5) AppleWebKit/537.36 (KHTML, like Gecko) Chrome/50.0.2661.102 Safari/537.36'}\n",
    "\n",
    "page = requests.get(url, headers=headers)"
   ]
  },
  {
   "cell_type": "code",
   "execution_count": 48,
   "id": "7a9784ea",
   "metadata": {
    "ExecuteTime": {
     "end_time": "2023-01-05T18:44:40.770539Z",
     "start_time": "2023-01-05T18:44:40.131001Z"
    }
   },
   "outputs": [],
   "source": [
    "soup = BeautifulSoup(page.text, 'html.parser')"
   ]
  },
  {
   "cell_type": "code",
   "execution_count": 50,
   "id": "e1587127",
   "metadata": {
    "ExecuteTime": {
     "end_time": "2023-01-05T18:45:31.487798Z",
     "start_time": "2023-01-05T18:45:31.458486Z"
    }
   },
   "outputs": [
    {
     "data": {
      "text/plain": [
       "'97'"
      ]
     },
     "execution_count": 50,
     "metadata": {},
     "output_type": "execute_result"
    }
   ],
   "source": [
    "total_item = soup.find_all('h2', class_='load-more-heading')[0].get('data-total')\n",
    "total_item"
   ]
  },
  {
   "cell_type": "code",
   "execution_count": 53,
   "id": "a68cde35",
   "metadata": {
    "ExecuteTime": {
     "end_time": "2023-01-05T18:49:42.391823Z",
     "start_time": "2023-01-05T18:49:42.369424Z"
    }
   },
   "outputs": [
    {
     "data": {
      "text/plain": [
       "3.0"
      ]
     },
     "execution_count": 53,
     "metadata": {},
     "output_type": "execute_result"
    }
   ],
   "source": [
    "page_number = np.round(int(total_item)/36)\n",
    "page_number"
   ]
  },
  {
   "cell_type": "code",
   "execution_count": 54,
   "id": "a8571b9f",
   "metadata": {
    "ExecuteTime": {
     "end_time": "2023-01-05T18:50:23.635262Z",
     "start_time": "2023-01-05T18:50:23.618008Z"
    }
   },
   "outputs": [
    {
     "data": {
      "text/plain": [
       "'https://www2.hm.com/en_us/men/products/jeans.html?page-size=108'"
      ]
     },
     "execution_count": 54,
     "metadata": {},
     "output_type": "execute_result"
    }
   ],
   "source": [
    "url02 = url + '?page-size=' + str(int(page_number*36))\n",
    "url02"
   ]
  },
  {
   "cell_type": "markdown",
   "id": "3c742633",
   "metadata": {},
   "source": [
    "## A biblioteca Beautiful Soup - Prática III"
   ]
  },
  {
   "cell_type": "markdown",
   "id": "2ad1d9c9",
   "metadata": {
    "ExecuteTime": {
     "end_time": "2023-01-05T20:01:44.712924Z",
     "start_time": "2023-01-05T20:01:44.699839Z"
    }
   },
   "source": [
    "### One Product"
   ]
  },
  {
   "cell_type": "code",
   "execution_count": 67,
   "id": "9fa758ba",
   "metadata": {
    "ExecuteTime": {
     "end_time": "2023-01-05T20:12:13.887141Z",
     "start_time": "2023-01-05T20:12:13.462990Z"
    }
   },
   "outputs": [],
   "source": [
    "url = 'https://www2.hm.com/en_us/productpage.1019838002.html'\n",
    "headers = {'User-Agent': 'Mozilla/5.0 (Macintosh; Intel Mac OS X 10_11_5) AppleWebKit/537.36 (KHTML, like Gecko) Chrome/50.0.2661.102 Safari/537.36'}\n",
    "\n",
    "page = requests.get(url, headers=headers)"
   ]
  },
  {
   "cell_type": "code",
   "execution_count": 68,
   "id": "62e7a39c",
   "metadata": {
    "ExecuteTime": {
     "end_time": "2023-01-05T20:12:15.713398Z",
     "start_time": "2023-01-05T20:12:15.509594Z"
    }
   },
   "outputs": [],
   "source": [
    "soup = BeautifulSoup(page.text, 'html.parser')"
   ]
  },
  {
   "cell_type": "code",
   "execution_count": 88,
   "id": "ab82503b",
   "metadata": {
    "ExecuteTime": {
     "end_time": "2023-01-05T20:29:57.327270Z",
     "start_time": "2023-01-05T20:29:57.271548Z"
    }
   },
   "outputs": [
    {
     "data": {
      "text/html": [
       "<div>\n",
       "<style scoped>\n",
       "    .dataframe tbody tr th:only-of-type {\n",
       "        vertical-align: middle;\n",
       "    }\n",
       "\n",
       "    .dataframe tbody tr th {\n",
       "        vertical-align: top;\n",
       "    }\n",
       "\n",
       "    .dataframe thead th {\n",
       "        text-align: right;\n",
       "    }\n",
       "</style>\n",
       "<table border=\"1\" class=\"dataframe\">\n",
       "  <thead>\n",
       "    <tr style=\"text-align: right;\">\n",
       "      <th></th>\n",
       "      <th>product_id</th>\n",
       "      <th>color_name</th>\n",
       "    </tr>\n",
       "  </thead>\n",
       "  <tbody>\n",
       "    <tr>\n",
       "      <th>0</th>\n",
       "      <td>1019838001</td>\n",
       "      <td>Black</td>\n",
       "    </tr>\n",
       "    <tr>\n",
       "      <th>1</th>\n",
       "      <td>1019838003</td>\n",
       "      <td>Dark blue</td>\n",
       "    </tr>\n",
       "    <tr>\n",
       "      <th>2</th>\n",
       "      <td>1019838004</td>\n",
       "      <td>Light gray</td>\n",
       "    </tr>\n",
       "    <tr>\n",
       "      <th>3</th>\n",
       "      <td>1019838005</td>\n",
       "      <td>Light khaki green</td>\n",
       "    </tr>\n",
       "    <tr>\n",
       "      <th>4</th>\n",
       "      <td>1019838017</td>\n",
       "      <td>Charcoal gray</td>\n",
       "    </tr>\n",
       "    <tr>\n",
       "      <th>5</th>\n",
       "      <td>1019838018</td>\n",
       "      <td>Beige</td>\n",
       "    </tr>\n",
       "    <tr>\n",
       "      <th>6</th>\n",
       "      <td>1019838019</td>\n",
       "      <td>Khaki green</td>\n",
       "    </tr>\n",
       "  </tbody>\n",
       "</table>\n",
       "</div>"
      ],
      "text/plain": [
       "   product_id         color_name\n",
       "0  1019838001              Black\n",
       "1  1019838003          Dark blue\n",
       "2  1019838004         Light gray\n",
       "3  1019838005  Light khaki green\n",
       "4  1019838017      Charcoal gray\n",
       "5  1019838018              Beige\n",
       "6  1019838019        Khaki green"
      ]
     },
     "execution_count": 88,
     "metadata": {},
     "output_type": "execute_result"
    }
   ],
   "source": [
    "# color name\n",
    "product_list = soup.find_all('a', class_='filter-option miniature')\n",
    "color_name = [p.get('data-color') for p in product_list]\n",
    "\n",
    "# product id\n",
    "product_id = [p.get('data-articlecode')for p in product_list]\n",
    "\n",
    "df_color = pd.DataFrame([product_id, color_name]).T\n",
    "df_color.columns = ['product_id', 'color_name']\n",
    "df_color"
   ]
  },
  {
   "cell_type": "code",
   "execution_count": 84,
   "id": "9ef01868",
   "metadata": {
    "ExecuteTime": {
     "end_time": "2023-01-05T20:27:45.328153Z",
     "start_time": "2023-01-05T20:27:45.319132Z"
    }
   },
   "outputs": [
    {
     "data": {
      "text/plain": [
       "['Black',\n",
       " 'Dark blue',\n",
       " 'Light gray',\n",
       " 'Light khaki green',\n",
       " 'Charcoal gray',\n",
       " 'Beige',\n",
       " 'Khaki green']"
      ]
     },
     "execution_count": 84,
     "metadata": {},
     "output_type": "execute_result"
    }
   ],
   "source": [
    "color_name"
   ]
  },
  {
   "cell_type": "code",
   "execution_count": null,
   "id": "ba6cc6fb",
   "metadata": {},
   "outputs": [],
   "source": [
    "# composition"
   ]
  },
  {
   "cell_type": "code",
   "execution_count": null,
   "id": "e2df04e7",
   "metadata": {},
   "outputs": [],
   "source": []
  },
  {
   "cell_type": "code",
   "execution_count": null,
   "id": "d1ac4b5d",
   "metadata": {},
   "outputs": [],
   "source": []
  },
  {
   "cell_type": "code",
   "execution_count": null,
   "id": "22c9bbe3",
   "metadata": {},
   "outputs": [],
   "source": []
  },
  {
   "cell_type": "code",
   "execution_count": null,
   "id": "4d76c6d0",
   "metadata": {},
   "outputs": [],
   "source": []
  },
  {
   "cell_type": "code",
   "execution_count": null,
   "id": "6cc47423",
   "metadata": {},
   "outputs": [],
   "source": []
  },
  {
   "cell_type": "code",
   "execution_count": null,
   "id": "248d12d0",
   "metadata": {},
   "outputs": [],
   "source": []
  }
 ],
 "metadata": {
  "hide_input": false,
  "kernelspec": {
   "display_name": "Python 3 (ipykernel)",
   "language": "python",
   "name": "python3"
  },
  "language_info": {
   "codemirror_mode": {
    "name": "ipython",
    "version": 3
   },
   "file_extension": ".py",
   "mimetype": "text/x-python",
   "name": "python",
   "nbconvert_exporter": "python",
   "pygments_lexer": "ipython3",
   "version": "3.9.7"
  },
  "varInspector": {
   "cols": {
    "lenName": 16,
    "lenType": 16,
    "lenVar": 40
   },
   "kernels_config": {
    "python": {
     "delete_cmd_postfix": "",
     "delete_cmd_prefix": "del ",
     "library": "var_list.py",
     "varRefreshCmd": "print(var_dic_list())"
    },
    "r": {
     "delete_cmd_postfix": ") ",
     "delete_cmd_prefix": "rm(",
     "library": "var_list.r",
     "varRefreshCmd": "cat(var_dic_list()) "
    }
   },
   "types_to_exclude": [
    "module",
    "function",
    "builtin_function_or_method",
    "instance",
    "_Feature"
   ],
   "window_display": false
  }
 },
 "nbformat": 4,
 "nbformat_minor": 5
}
