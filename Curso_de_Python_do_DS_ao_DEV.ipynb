{
 "cells": [
  {
   "cell_type": "markdown",
   "id": "df5cddca",
   "metadata": {},
   "source": [
    "# Modulo 05 - Extração de Dados em HTML"
   ]
  },
  {
   "cell_type": "markdown",
   "id": "840132af",
   "metadata": {},
   "source": [
    "## A biblioteca Beautiful Soup - Teoria"
   ]
  },
  {
   "cell_type": "code",
   "execution_count": 125,
   "id": "b05430c8",
   "metadata": {
    "ExecuteTime": {
     "end_time": "2023-01-06T18:11:32.037429Z",
     "start_time": "2023-01-06T18:11:32.021861Z"
    }
   },
   "outputs": [
    {
     "name": "stderr",
     "output_type": "stream",
     "text": [
      "C:\\Users\\pedro\\AppData\\Local\\Temp\\ipykernel_13952\\82325636.py:1: DeprecationWarning: Importing display from IPython.core.display is deprecated since IPython 7.14, please import from IPython display\n",
      "  from IPython.core.display import display, HTML\n"
     ]
    },
    {
     "data": {
      "text/html": [
       "<style>.container { width:80% !important; }</style>"
      ],
      "text/plain": [
       "<IPython.core.display.HTML object>"
      ]
     },
     "metadata": {},
     "output_type": "display_data"
    }
   ],
   "source": [
    "from IPython.core.display import display, HTML\n",
    "display(HTML(\"<style>.container { width:80% !important; }</style>\"))"
   ]
  },
  {
   "cell_type": "code",
   "execution_count": 43,
   "id": "e82292a3",
   "metadata": {
    "ExecuteTime": {
     "end_time": "2023-01-06T12:48:47.747595Z",
     "start_time": "2023-01-06T12:48:47.732409Z"
    }
   },
   "outputs": [],
   "source": [
    "from bs4 import BeautifulSoup"
   ]
  },
  {
   "cell_type": "code",
   "execution_count": 42,
   "id": "a539dc66",
   "metadata": {
    "ExecuteTime": {
     "end_time": "2023-01-06T12:48:44.894444Z",
     "start_time": "2023-01-06T12:48:44.884856Z"
    }
   },
   "outputs": [],
   "source": [
    "html_doc = \"\"\"<html><head><title>The Dormouse's story</title></head>\n",
    "<body>\n",
    "<p class=\"title\"><b>The Dormouse's story</b></p>\n",
    "\n",
    "<p class=\"story\">Once upon a time there were three little sisters; and their names were\n",
    "<a href=\"http://example.com/elsie\" class=\"sister\" id=\"link1\">Elsie</a>,\n",
    "<a href=\"http://example.com/lacie\" class=\"sister\" id=\"link2\">Lacie</a> and\n",
    "<a href=\"http://example.com/tillie\" class=\"sister\" id=\"link3\">Tillie</a>;\n",
    "and they lived at the bottom of a well.</p>\n",
    "\n",
    "<p class=\"story\">...</p>\n",
    "\"\"\""
   ]
  },
  {
   "cell_type": "code",
   "execution_count": 3,
   "id": "89bf0fd9",
   "metadata": {
    "ExecuteTime": {
     "end_time": "2023-01-06T12:20:21.302698Z",
     "start_time": "2023-01-06T12:20:21.278203Z"
    }
   },
   "outputs": [],
   "source": [
    "soup = BeautifulSoup(html_doc, 'html.parser')"
   ]
  },
  {
   "cell_type": "code",
   "execution_count": 4,
   "id": "84d8de49",
   "metadata": {
    "ExecuteTime": {
     "end_time": "2023-01-06T12:20:21.333025Z",
     "start_time": "2023-01-06T12:20:21.310637Z"
    }
   },
   "outputs": [
    {
     "name": "stdout",
     "output_type": "stream",
     "text": [
      "<body>\n",
      "<p class=\"title\"><b>The Dormouse's story</b></p>\n",
      "<p class=\"story\">Once upon a time there were three little sisters; and their names were\n",
      "<a class=\"sister\" href=\"http://example.com/elsie\" id=\"link1\">Elsie</a>,\n",
      "<a class=\"sister\" href=\"http://example.com/lacie\" id=\"link2\">Lacie</a> and\n",
      "<a class=\"sister\" href=\"http://example.com/tillie\" id=\"link3\">Tillie</a>;\n",
      "and they lived at the bottom of a well.</p>\n",
      "<p class=\"story\">...</p>\n",
      "</body>\n"
     ]
    }
   ],
   "source": [
    "print(soup.body)"
   ]
  },
  {
   "cell_type": "code",
   "execution_count": 44,
   "id": "3663092f",
   "metadata": {
    "ExecuteTime": {
     "end_time": "2023-01-06T12:48:54.255915Z",
     "start_time": "2023-01-06T12:48:54.213153Z"
    }
   },
   "outputs": [
    {
     "ename": "IndexError",
     "evalue": "list index out of range",
     "output_type": "error",
     "traceback": [
      "\u001b[1;31m---------------------------------------------------------------------------\u001b[0m",
      "\u001b[1;31mIndexError\u001b[0m                                Traceback (most recent call last)",
      "Cell \u001b[1;32mIn[44], line 1\u001b[0m\n\u001b[1;32m----> 1\u001b[0m \u001b[43msoup\u001b[49m\u001b[38;5;241;43m.\u001b[39;49m\u001b[43mfind_all\u001b[49m\u001b[43m(\u001b[49m\u001b[38;5;124;43m'\u001b[39;49m\u001b[38;5;124;43ma\u001b[39;49m\u001b[38;5;124;43m'\u001b[39;49m\u001b[43m,\u001b[49m\u001b[43m \u001b[49m\u001b[38;5;28;43mid\u001b[39;49m\u001b[38;5;241;43m=\u001b[39;49m\u001b[43m \u001b[49m\u001b[38;5;124;43m'\u001b[39;49m\u001b[38;5;124;43mlink1\u001b[39;49m\u001b[38;5;124;43m'\u001b[39;49m\u001b[43m)\u001b[49m\u001b[43m[\u001b[49m\u001b[38;5;241;43m0\u001b[39;49m\u001b[43m]\u001b[49m\n",
      "\u001b[1;31mIndexError\u001b[0m: list index out of range"
     ]
    }
   ],
   "source": [
    "soup.find_all('a', id= 'link1')[0]"
   ]
  },
  {
   "cell_type": "markdown",
   "id": "ce0e532f",
   "metadata": {},
   "source": [
    "## A biblioteca Beautiful Soup - Prática I"
   ]
  },
  {
   "cell_type": "code",
   "execution_count": 45,
   "id": "317b0f1d",
   "metadata": {
    "ExecuteTime": {
     "end_time": "2023-01-06T12:49:11.063746Z",
     "start_time": "2023-01-06T12:49:11.043718Z"
    }
   },
   "outputs": [],
   "source": [
    "import requests\n",
    "import pandas as pd\n",
    "from datetime import datetime\n",
    "import numpy as np"
   ]
  },
  {
   "cell_type": "code",
   "execution_count": 46,
   "id": "1cc3418b",
   "metadata": {
    "ExecuteTime": {
     "end_time": "2023-01-06T12:49:13.891958Z",
     "start_time": "2023-01-06T12:49:13.060197Z"
    }
   },
   "outputs": [],
   "source": [
    "url = 'https://www2.hm.com/en_us/men/products/jeans.html'\n",
    "\n",
    "headers = {'User-Agent': 'Mozilla/5.0 (Macintosh; Intel Mac OS X 10_11_5) AppleWebKit/537.36 (KHTML, like Gecko) Chrome/50.0.2661.102 Safari/537.36'}\n",
    "page = requests.get(url, headers=headers)"
   ]
  },
  {
   "cell_type": "code",
   "execution_count": 47,
   "id": "7905a3ae",
   "metadata": {
    "ExecuteTime": {
     "end_time": "2023-01-06T12:49:16.437232Z",
     "start_time": "2023-01-06T12:49:16.084322Z"
    }
   },
   "outputs": [],
   "source": [
    "soup = BeautifulSoup(page.text, 'html.parser')"
   ]
  },
  {
   "cell_type": "code",
   "execution_count": 48,
   "id": "64e2f794",
   "metadata": {
    "ExecuteTime": {
     "end_time": "2023-01-06T12:49:20.983527Z",
     "start_time": "2023-01-06T12:49:20.949358Z"
    }
   },
   "outputs": [],
   "source": [
    "products = soup.find('ul', class_='products-listing small')"
   ]
  },
  {
   "cell_type": "code",
   "execution_count": 49,
   "id": "04289bce",
   "metadata": {
    "ExecuteTime": {
     "end_time": "2023-01-06T12:49:24.430219Z",
     "start_time": "2023-01-06T12:49:24.405606Z"
    }
   },
   "outputs": [],
   "source": [
    "product_list = products.find_all('article', class_='hm-product-item')\n",
    "\n",
    "# product id\n",
    "product_id = [p.get('data-articlecode') for p in product_list]\n",
    "\n",
    "# product category\n",
    "product_category = [p.get('data-category') for p in product_list]"
   ]
  },
  {
   "cell_type": "code",
   "execution_count": 50,
   "id": "6c0e057d",
   "metadata": {
    "ExecuteTime": {
     "end_time": "2023-01-06T12:49:25.890526Z",
     "start_time": "2023-01-06T12:49:25.877446Z"
    }
   },
   "outputs": [],
   "source": [
    "product_list = products.find_all('a', class_='link')\n",
    "\n",
    "# product name\n",
    "product_name = [p.get_text() for p in product_list]"
   ]
  },
  {
   "cell_type": "code",
   "execution_count": 51,
   "id": "8516c985",
   "metadata": {
    "ExecuteTime": {
     "end_time": "2023-01-06T12:49:27.331597Z",
     "start_time": "2023-01-06T12:49:27.316198Z"
    }
   },
   "outputs": [],
   "source": [
    "# price\n",
    "product_list = products.find_all('span', class_='price regular')\n",
    "product_price = [p.get_text() for p in product_list]"
   ]
  },
  {
   "cell_type": "code",
   "execution_count": 13,
   "id": "c0342b3b",
   "metadata": {
    "ExecuteTime": {
     "end_time": "2023-01-06T12:20:24.164554Z",
     "start_time": "2023-01-06T12:20:24.152888Z"
    }
   },
   "outputs": [],
   "source": [
    "# product color"
   ]
  },
  {
   "cell_type": "code",
   "execution_count": 14,
   "id": "e67fafa6",
   "metadata": {
    "ExecuteTime": {
     "end_time": "2023-01-06T12:20:24.180547Z",
     "start_time": "2023-01-06T12:20:24.169542Z"
    }
   },
   "outputs": [],
   "source": [
    "# product composition"
   ]
  },
  {
   "cell_type": "code",
   "execution_count": 52,
   "id": "3ce3bfe8",
   "metadata": {
    "ExecuteTime": {
     "end_time": "2023-01-06T12:49:32.917674Z",
     "start_time": "2023-01-06T12:49:32.901563Z"
    }
   },
   "outputs": [],
   "source": [
    "data = pd.DataFrame([product_id, product_category, product_name, product_price]).T\n",
    "data.columns = ['product_id', 'product_category', 'product_name', 'product_price']\n",
    "\n",
    "# scrapy datetime\n",
    "data['scrapy_datetime'] = datetime.now().strftime('%Y-%m-%d %H:%M:%S')"
   ]
  },
  {
   "cell_type": "markdown",
   "id": "6ad28372",
   "metadata": {},
   "source": [
    "## A biblioteca Beautiful Soup - Prática II"
   ]
  },
  {
   "cell_type": "code",
   "execution_count": 53,
   "id": "737183fb",
   "metadata": {
    "ExecuteTime": {
     "end_time": "2023-01-06T12:49:54.302613Z",
     "start_time": "2023-01-06T12:49:53.813210Z"
    }
   },
   "outputs": [],
   "source": [
    "url = 'https://www2.hm.com/en_us/men/products/jeans.html'\n",
    "headers = {'User-Agent': 'Mozilla/5.0 (Macintosh; Intel Mac OS X 10_11_5) AppleWebKit/537.36 (KHTML, like Gecko) Chrome/50.0.2661.102 Safari/537.36'}\n",
    "\n",
    "page = requests.get(url, headers=headers)"
   ]
  },
  {
   "cell_type": "code",
   "execution_count": 54,
   "id": "7a9784ea",
   "metadata": {
    "ExecuteTime": {
     "end_time": "2023-01-06T12:49:57.372147Z",
     "start_time": "2023-01-06T12:49:57.093171Z"
    }
   },
   "outputs": [],
   "source": [
    "soup = BeautifulSoup(page.text, 'html.parser')"
   ]
  },
  {
   "cell_type": "code",
   "execution_count": 55,
   "id": "e1587127",
   "metadata": {
    "ExecuteTime": {
     "end_time": "2023-01-06T12:49:58.707654Z",
     "start_time": "2023-01-06T12:49:58.677141Z"
    }
   },
   "outputs": [
    {
     "data": {
      "text/plain": [
       "'98'"
      ]
     },
     "execution_count": 55,
     "metadata": {},
     "output_type": "execute_result"
    }
   ],
   "source": [
    "total_item = soup.find_all('h2', class_='load-more-heading')[0].get('data-total')\n",
    "total_item"
   ]
  },
  {
   "cell_type": "code",
   "execution_count": 56,
   "id": "a68cde35",
   "metadata": {
    "ExecuteTime": {
     "end_time": "2023-01-06T12:50:00.798273Z",
     "start_time": "2023-01-06T12:50:00.788785Z"
    }
   },
   "outputs": [
    {
     "data": {
      "text/plain": [
       "3.0"
      ]
     },
     "execution_count": 56,
     "metadata": {},
     "output_type": "execute_result"
    }
   ],
   "source": [
    "page_number = np.round(int(total_item)/36)\n",
    "page_number"
   ]
  },
  {
   "cell_type": "code",
   "execution_count": 57,
   "id": "a8571b9f",
   "metadata": {
    "ExecuteTime": {
     "end_time": "2023-01-06T12:50:02.288645Z",
     "start_time": "2023-01-06T12:50:02.277755Z"
    }
   },
   "outputs": [
    {
     "data": {
      "text/plain": [
       "'https://www2.hm.com/en_us/men/products/jeans.html?page-size=108'"
      ]
     },
     "execution_count": 57,
     "metadata": {},
     "output_type": "execute_result"
    }
   ],
   "source": [
    "url02 = url + '?page-size=' + str(int(page_number*36))\n",
    "url02"
   ]
  },
  {
   "cell_type": "markdown",
   "id": "3c742633",
   "metadata": {},
   "source": [
    "## A biblioteca Beautiful Soup - Prática III"
   ]
  },
  {
   "cell_type": "markdown",
   "id": "2ad1d9c9",
   "metadata": {
    "ExecuteTime": {
     "end_time": "2023-01-05T20:01:44.712924Z",
     "start_time": "2023-01-05T20:01:44.699839Z"
    }
   },
   "source": [
    "### One Product"
   ]
  },
  {
   "cell_type": "code",
   "execution_count": 58,
   "id": "9fa758ba",
   "metadata": {
    "ExecuteTime": {
     "end_time": "2023-01-06T12:50:06.370156Z",
     "start_time": "2023-01-06T12:50:05.604233Z"
    }
   },
   "outputs": [],
   "source": [
    "# API Requests\n",
    "url = 'https://www2.hm.com/en_us/productpage.1019838002.html'\n",
    "\n",
    "headers = {'User-Agent': 'Mozilla/5.0 (Macintosh; Intel Mac OS X 10_11_5) AppleWebKit/537.36 (KHTML, like Gecko) Chrome/50.0.2661.102 Safari/537.36'}\n",
    "page = requests.get(url, headers=headers)\n",
    "\n",
    "# Beautiful Soup object\n",
    "soup = BeautifulSoup(page.text, 'html.parser')\n",
    "\n",
    "# ============================ color name ============================\n",
    "product_list = soup.find_all('a', class_='filter-option miniature')\n",
    "color_name = [p.get('data-color') for p in product_list]\n",
    "\n",
    "# product id\n",
    "product_id = [p.get('data-articlecode')for p in product_list]\n",
    "\n",
    "df_color = pd.DataFrame([product_id, color_name]).T\n",
    "df_color.columns = ['product_id', 'color_name']\n",
    "\n",
    "# generate style id + color id\n",
    "df_color['style_id'] = df_color['product_id'].apply(lambda x: x[:-3])\n",
    "df_color['color_id'] = df_color['product_id'].apply(lambda x: x[-3:])\n",
    "\n",
    "# ================================================ composition ====================================================\n",
    "#product_composition_list = soup.find_all('div', class_=\"ProductAttributesList-module--descriptionListItem__HzutH\")\n",
    "##product_composition = [list(filter(None, p.get_text().split('\\n'))) for p in product_composition_list]\n",
    "\n",
    "# rename dataframe\n",
    "#df_composition = pd.DataFrame(product_composition).T\n",
    "#df_composition.columns = df_composition.iloc[1]\n",
    "\n",
    "# delete first row\n",
    "#df_composition = df_composition.iloc[1:].fillna(method='ffill')\n",
    "\n",
    "# generate style id + color id\n",
    "#df_composition['style_id'] = df_composition['Art. No.'].apply(lambda x: x[:-3])\n",
    "#df_composition['color_id'] = df_composition['Art. No.'].apply(lambda x: x[-3:])\n",
    "\n",
    "# merge data color + composition\n",
    "#data_sku = pd.merge(df_color, df_composition[['style_id', 'Fit', 'Composition']], how='left', on='style_id'"
   ]
  },
  {
   "cell_type": "markdown",
   "id": "d05501ac",
   "metadata": {},
   "source": [
    "### Multiple Products"
   ]
  },
  {
   "cell_type": "code",
   "execution_count": 142,
   "id": "dbc24b30",
   "metadata": {
    "ExecuteTime": {
     "end_time": "2023-01-06T19:48:45.406927Z",
     "start_time": "2023-01-06T19:48:45.377997Z"
    },
    "code_folding": []
   },
   "outputs": [
    {
     "ename": "SyntaxError",
     "evalue": "invalid syntax (557787055.py, line 56)",
     "output_type": "error",
     "traceback": [
      "\u001b[1;36m  Cell \u001b[1;32mIn[142], line 56\u001b[1;36m\u001b[0m\n\u001b[1;33m    df_details = pd.concat( [df_details, data_sku], axis=0 )\u001b[0m\n\u001b[1;37m    ^\u001b[0m\n\u001b[1;31mSyntaxError\u001b[0m\u001b[1;31m:\u001b[0m invalid syntax\n"
     ]
    }
   ],
   "source": [
    "headers = {'User-Agent': 'Mozilla/5.0 (Macintosh; Intel Mac OS X 10_11_5) AppleWebKit/537.36 (KHTML, like Gecko) Chrome/50.0.2661.102 Safari/537.36'}\n",
    "\n",
    "# empty dataframe\n",
    "df_details = pd.DataFrame()\n",
    "\n",
    "# unique columns for all products\n",
    "aux = []\n",
    "\n",
    "cols = ['Art. No.', 'Composition', 'Fit', 'Product safety', 'Size']\n",
    "df_pattern = pd.DataFrame( columns=cols )\n",
    "\n",
    "for i in range(len(data)):\n",
    "    # API Requests\n",
    "    url = 'https://www2.hm.com/en_us/productpage.' + str(data.loc[i, 'product_id']) + '.html'\n",
    "\n",
    "    page = requests.get(url, headers=headers)\n",
    "\n",
    "    # Beautiful Soup object\n",
    "    soup = BeautifulSoup(page.text, 'html.parser')\n",
    "\n",
    "    # ============================ color name ============================\n",
    "    product_list = soup.find_all('a', class_='filter-option miniature')\n",
    "    color_name = [p.get('data-color') for p in product_list]\n",
    "\n",
    "    # product id\n",
    "    product_id = [p.get('data-articlecode')for p in product_list]\n",
    "\n",
    "    df_color = pd.DataFrame([product_id, color_name]).T\n",
    "    df_color.columns = ['product_id', 'color_name']\n",
    "\n",
    "    # generate style id + color id\n",
    "    df_color['style_id'] = df_color['product_id'].apply(lambda x: x[:-3])\n",
    "    df_color['color_id'] = df_color['product_id'].apply(lambda x: x[-3:])\n",
    "\n",
    "    # ================================================ composition ====================================================\n",
    "    product_composition_list = soup.find_all('div', class_=\"ProductAttributesList-module--descriptionListItem__HzutH\")\n",
    "    product_composition = [list(filter(None, p.get_text().split('\\n'))) for p in product_composition_list]\n",
    "\n",
    "    # rename dataframe\n",
    "    df_composition = pd.DataFrame(product_composition).T\n",
    "    df_composition.columns = df_composition.iloc[1]\n",
    "\n",
    "    # delete first row\n",
    "    df_composition = df_composition.iloc[1:].fillna(method='ffill')\n",
    "\n",
    "    # generate style id + color id\n",
    "    df_composition['style_id'] = df_composition['Art. No.'].apply(lambda x: x[:-3])\n",
    "    df_composition['color_id'] = df_composition['Art. No.'].apply(lambda x: x[-3:])\n",
    "\n",
    "    aux = aux + df_composition.columns.tolist()\n",
    "    \n",
    "    # merge data color + composition\n",
    "    data_sku = pd.merge(df_color, df_composition[['style_id', 'Fit', 'Composition']], how='left', on='style_id'\n",
    "                        \n",
    "    # all details products\n",
    "    df_details = pd.concat( [df_details, data_sku], axis=0 )\n",
    "                        \n",
    "# Join Showroom data + details\n",
    "data['style_id'] = data['product_id'].apply( lambda x: x[:-3] )\n",
    "data['color_id'] = data['product_id'].apply( lambda x: x[-3:] )\n",
    "                        \n",
    "data_raw = pd.merge( data, df_details[['style_id', 'color_name', 'Fit', 'Composition', 'Size', 'Product safety']], how='left', on='style_id' )   "
   ]
  },
  {
   "cell_type": "code",
   "execution_count": null,
   "id": "d449b6da",
   "metadata": {},
   "outputs": [],
   "source": []
  },
  {
   "cell_type": "code",
   "execution_count": null,
   "id": "acb62399",
   "metadata": {},
   "outputs": [],
   "source": []
  },
  {
   "cell_type": "code",
   "execution_count": null,
   "id": "8c38d692",
   "metadata": {},
   "outputs": [],
   "source": []
  },
  {
   "cell_type": "code",
   "execution_count": null,
   "id": "868a175f",
   "metadata": {},
   "outputs": [],
   "source": []
  },
  {
   "cell_type": "code",
   "execution_count": null,
   "id": "f7155feb",
   "metadata": {},
   "outputs": [],
   "source": []
  },
  {
   "cell_type": "code",
   "execution_count": null,
   "id": "ea880612",
   "metadata": {},
   "outputs": [],
   "source": []
  },
  {
   "cell_type": "code",
   "execution_count": null,
   "id": "0642cfe8",
   "metadata": {},
   "outputs": [],
   "source": []
  },
  {
   "cell_type": "code",
   "execution_count": null,
   "id": "1965d066",
   "metadata": {},
   "outputs": [],
   "source": []
  },
  {
   "cell_type": "code",
   "execution_count": null,
   "id": "76d6df1b",
   "metadata": {},
   "outputs": [],
   "source": []
  },
  {
   "cell_type": "code",
   "execution_count": null,
   "id": "c9d28903",
   "metadata": {},
   "outputs": [],
   "source": []
  },
  {
   "cell_type": "code",
   "execution_count": null,
   "id": "ed9c541d",
   "metadata": {},
   "outputs": [],
   "source": []
  },
  {
   "cell_type": "code",
   "execution_count": null,
   "id": "c231ea22",
   "metadata": {},
   "outputs": [],
   "source": []
  },
  {
   "cell_type": "code",
   "execution_count": null,
   "id": "c8de0b0a",
   "metadata": {},
   "outputs": [],
   "source": []
  },
  {
   "cell_type": "code",
   "execution_count": null,
   "id": "2b38acbb",
   "metadata": {},
   "outputs": [],
   "source": []
  },
  {
   "cell_type": "code",
   "execution_count": 135,
   "id": "248d12d0",
   "metadata": {
    "ExecuteTime": {
     "end_time": "2023-01-06T18:17:20.928901Z",
     "start_time": "2023-01-06T18:17:20.852732Z"
    }
   },
   "outputs": [],
   "source": [
    "data = pd.read_csv('C:/Users/pedro/OneDrive/Documentos/CURSOS/Python do DS ao DEV/products_hm.csv')"
   ]
  },
  {
   "cell_type": "code",
   "execution_count": 136,
   "id": "7462df4a",
   "metadata": {
    "ExecuteTime": {
     "end_time": "2023-01-06T18:17:23.664631Z",
     "start_time": "2023-01-06T18:17:23.620105Z"
    }
   },
   "outputs": [
    {
     "data": {
      "text/html": [
       "<div>\n",
       "<style scoped>\n",
       "    .dataframe tbody tr th:only-of-type {\n",
       "        vertical-align: middle;\n",
       "    }\n",
       "\n",
       "    .dataframe tbody tr th {\n",
       "        vertical-align: top;\n",
       "    }\n",
       "\n",
       "    .dataframe thead th {\n",
       "        text-align: right;\n",
       "    }\n",
       "</style>\n",
       "<table border=\"1\" class=\"dataframe\">\n",
       "  <thead>\n",
       "    <tr style=\"text-align: right;\">\n",
       "      <th></th>\n",
       "      <th>product_id</th>\n",
       "      <th>product_category</th>\n",
       "      <th>product_name</th>\n",
       "      <th>product_price</th>\n",
       "      <th>scrapy_datetime</th>\n",
       "      <th>style_id</th>\n",
       "      <th>color_id</th>\n",
       "      <th>color_name</th>\n",
       "      <th>fit</th>\n",
       "      <th>size</th>\n",
       "      <th>product safety</th>\n",
       "      <th>composition</th>\n",
       "    </tr>\n",
       "  </thead>\n",
       "  <tbody>\n",
       "    <tr>\n",
       "      <th>0</th>\n",
       "      <td>636207006.0</td>\n",
       "      <td>men_jeans_slim</td>\n",
       "      <td>Slim Jeans</td>\n",
       "      <td>$ 19.99</td>\n",
       "      <td>2021-04-11 17:48:05</td>\n",
       "      <td>636207.0</td>\n",
       "      <td>6.0</td>\n",
       "      <td>Dark denim blue</td>\n",
       "      <td>Slim fit</td>\n",
       "      <td>NaN</td>\n",
       "      <td>NaN</td>\n",
       "      <td>Cotton 98%, Elastane 2%</td>\n",
       "    </tr>\n",
       "    <tr>\n",
       "      <th>1</th>\n",
       "      <td>636207006.0</td>\n",
       "      <td>men_jeans_slim</td>\n",
       "      <td>Slim Jeans</td>\n",
       "      <td>$ 19.99</td>\n",
       "      <td>2021-04-11 17:48:05</td>\n",
       "      <td>636207.0</td>\n",
       "      <td>6.0</td>\n",
       "      <td>Dark gray denim</td>\n",
       "      <td>Slim fit</td>\n",
       "      <td>NaN</td>\n",
       "      <td>NaN</td>\n",
       "      <td>Cotton 98%, Elastane 2%</td>\n",
       "    </tr>\n",
       "    <tr>\n",
       "      <th>2</th>\n",
       "      <td>636207006.0</td>\n",
       "      <td>men_jeans_slim</td>\n",
       "      <td>Slim Jeans</td>\n",
       "      <td>$ 19.99</td>\n",
       "      <td>2021-04-11 17:48:05</td>\n",
       "      <td>636207.0</td>\n",
       "      <td>6.0</td>\n",
       "      <td>Denim blue</td>\n",
       "      <td>Slim fit</td>\n",
       "      <td>NaN</td>\n",
       "      <td>NaN</td>\n",
       "      <td>Cotton 98%, Elastane 2%</td>\n",
       "    </tr>\n",
       "    <tr>\n",
       "      <th>3</th>\n",
       "      <td>636207006.0</td>\n",
       "      <td>men_jeans_slim</td>\n",
       "      <td>Slim Jeans</td>\n",
       "      <td>$ 19.99</td>\n",
       "      <td>2021-04-11 17:48:05</td>\n",
       "      <td>636207.0</td>\n",
       "      <td>6.0</td>\n",
       "      <td>Gray</td>\n",
       "      <td>Slim fit</td>\n",
       "      <td>NaN</td>\n",
       "      <td>NaN</td>\n",
       "      <td>Cotton 98%, Elastane 2%</td>\n",
       "    </tr>\n",
       "    <tr>\n",
       "      <th>4</th>\n",
       "      <td>636207006.0</td>\n",
       "      <td>men_jeans_slim</td>\n",
       "      <td>Slim Jeans</td>\n",
       "      <td>$ 19.99</td>\n",
       "      <td>2021-04-11 17:48:05</td>\n",
       "      <td>636207.0</td>\n",
       "      <td>6.0</td>\n",
       "      <td>Light denim blue</td>\n",
       "      <td>Slim fit</td>\n",
       "      <td>NaN</td>\n",
       "      <td>NaN</td>\n",
       "      <td>Cotton 98%, Elastane 2%</td>\n",
       "    </tr>\n",
       "    <tr>\n",
       "      <th>...</th>\n",
       "      <td>...</td>\n",
       "      <td>...</td>\n",
       "      <td>...</td>\n",
       "      <td>...</td>\n",
       "      <td>...</td>\n",
       "      <td>...</td>\n",
       "      <td>...</td>\n",
       "      <td>...</td>\n",
       "      <td>...</td>\n",
       "      <td>...</td>\n",
       "      <td>...</td>\n",
       "      <td>...</td>\n",
       "    </tr>\n",
       "    <tr>\n",
       "      <th>2466</th>\n",
       "      <td>814631004.0</td>\n",
       "      <td>men_jeans_slim</td>\n",
       "      <td>Freefit® Slim Jeans</td>\n",
       "      <td>$ 49.99</td>\n",
       "      <td>2021-04-11 17:48:05</td>\n",
       "      <td>814631.0</td>\n",
       "      <td>4.0</td>\n",
       "      <td>Black/No fade black</td>\n",
       "      <td>Slim fit</td>\n",
       "      <td>NaN</td>\n",
       "      <td>NaN</td>\n",
       "      <td>Cotton 90%, Elasterell-P 8%, Elastane 2%</td>\n",
       "    </tr>\n",
       "    <tr>\n",
       "      <th>2467</th>\n",
       "      <td>814631004.0</td>\n",
       "      <td>men_jeans_slim</td>\n",
       "      <td>Freefit® Slim Jeans</td>\n",
       "      <td>$ 49.99</td>\n",
       "      <td>2021-04-11 17:48:05</td>\n",
       "      <td>814631.0</td>\n",
       "      <td>4.0</td>\n",
       "      <td>Dark blue</td>\n",
       "      <td>Slim fit</td>\n",
       "      <td>NaN</td>\n",
       "      <td>NaN</td>\n",
       "      <td>Cotton 90%, Elasterell-P 8%, Elastane 2%</td>\n",
       "    </tr>\n",
       "    <tr>\n",
       "      <th>2468</th>\n",
       "      <td>814631004.0</td>\n",
       "      <td>men_jeans_slim</td>\n",
       "      <td>Freefit® Slim Jeans</td>\n",
       "      <td>$ 49.99</td>\n",
       "      <td>2021-04-11 17:48:05</td>\n",
       "      <td>814631.0</td>\n",
       "      <td>4.0</td>\n",
       "      <td>White</td>\n",
       "      <td>Slim fit</td>\n",
       "      <td>NaN</td>\n",
       "      <td>NaN</td>\n",
       "      <td>Cotton 90%, Elasterell-P 8%, Elastane 2%</td>\n",
       "    </tr>\n",
       "    <tr>\n",
       "      <th>2469</th>\n",
       "      <td>814631004.0</td>\n",
       "      <td>men_jeans_slim</td>\n",
       "      <td>Freefit® Slim Jeans</td>\n",
       "      <td>$ 49.99</td>\n",
       "      <td>2021-04-11 17:48:05</td>\n",
       "      <td>814631.0</td>\n",
       "      <td>4.0</td>\n",
       "      <td>Gray</td>\n",
       "      <td>Slim fit</td>\n",
       "      <td>NaN</td>\n",
       "      <td>NaN</td>\n",
       "      <td>Cotton 90%, Elasterell-P 8%, Elastane 2%</td>\n",
       "    </tr>\n",
       "    <tr>\n",
       "      <th>2470</th>\n",
       "      <td>814631004.0</td>\n",
       "      <td>men_jeans_slim</td>\n",
       "      <td>Freefit® Slim Jeans</td>\n",
       "      <td>$ 49.99</td>\n",
       "      <td>2021-04-11 17:48:05</td>\n",
       "      <td>814631.0</td>\n",
       "      <td>4.0</td>\n",
       "      <td>Dark denim blue</td>\n",
       "      <td>Slim fit</td>\n",
       "      <td>NaN</td>\n",
       "      <td>NaN</td>\n",
       "      <td>Cotton 90%, Elasterell-P 8%, Elastane 2%</td>\n",
       "    </tr>\n",
       "  </tbody>\n",
       "</table>\n",
       "<p>2471 rows × 12 columns</p>\n",
       "</div>"
      ],
      "text/plain": [
       "       product_id product_category         product_name product_price  \\\n",
       "0     636207006.0   men_jeans_slim           Slim Jeans       $ 19.99   \n",
       "1     636207006.0   men_jeans_slim           Slim Jeans       $ 19.99   \n",
       "2     636207006.0   men_jeans_slim           Slim Jeans       $ 19.99   \n",
       "3     636207006.0   men_jeans_slim           Slim Jeans       $ 19.99   \n",
       "4     636207006.0   men_jeans_slim           Slim Jeans       $ 19.99   \n",
       "...           ...              ...                  ...           ...   \n",
       "2466  814631004.0   men_jeans_slim  Freefit® Slim Jeans       $ 49.99   \n",
       "2467  814631004.0   men_jeans_slim  Freefit® Slim Jeans       $ 49.99   \n",
       "2468  814631004.0   men_jeans_slim  Freefit® Slim Jeans       $ 49.99   \n",
       "2469  814631004.0   men_jeans_slim  Freefit® Slim Jeans       $ 49.99   \n",
       "2470  814631004.0   men_jeans_slim  Freefit® Slim Jeans       $ 49.99   \n",
       "\n",
       "          scrapy_datetime  style_id  color_id           color_name       fit  \\\n",
       "0     2021-04-11 17:48:05  636207.0       6.0      Dark denim blue  Slim fit   \n",
       "1     2021-04-11 17:48:05  636207.0       6.0      Dark gray denim  Slim fit   \n",
       "2     2021-04-11 17:48:05  636207.0       6.0           Denim blue  Slim fit   \n",
       "3     2021-04-11 17:48:05  636207.0       6.0                 Gray  Slim fit   \n",
       "4     2021-04-11 17:48:05  636207.0       6.0     Light denim blue  Slim fit   \n",
       "...                   ...       ...       ...                  ...       ...   \n",
       "2466  2021-04-11 17:48:05  814631.0       4.0  Black/No fade black  Slim fit   \n",
       "2467  2021-04-11 17:48:05  814631.0       4.0            Dark blue  Slim fit   \n",
       "2468  2021-04-11 17:48:05  814631.0       4.0                White  Slim fit   \n",
       "2469  2021-04-11 17:48:05  814631.0       4.0                 Gray  Slim fit   \n",
       "2470  2021-04-11 17:48:05  814631.0       4.0      Dark denim blue  Slim fit   \n",
       "\n",
       "     size product safety                               composition  \n",
       "0     NaN            NaN                   Cotton 98%, Elastane 2%  \n",
       "1     NaN            NaN                   Cotton 98%, Elastane 2%  \n",
       "2     NaN            NaN                   Cotton 98%, Elastane 2%  \n",
       "3     NaN            NaN                   Cotton 98%, Elastane 2%  \n",
       "4     NaN            NaN                   Cotton 98%, Elastane 2%  \n",
       "...   ...            ...                                       ...  \n",
       "2466  NaN            NaN  Cotton 90%, Elasterell-P 8%, Elastane 2%  \n",
       "2467  NaN            NaN  Cotton 90%, Elasterell-P 8%, Elastane 2%  \n",
       "2468  NaN            NaN  Cotton 90%, Elasterell-P 8%, Elastane 2%  \n",
       "2469  NaN            NaN  Cotton 90%, Elasterell-P 8%, Elastane 2%  \n",
       "2470  NaN            NaN  Cotton 90%, Elasterell-P 8%, Elastane 2%  \n",
       "\n",
       "[2471 rows x 12 columns]"
      ]
     },
     "execution_count": 136,
     "metadata": {},
     "output_type": "execute_result"
    }
   ],
   "source": [
    "data"
   ]
  },
  {
   "cell_type": "code",
   "execution_count": null,
   "id": "e8c6e6fb",
   "metadata": {},
   "outputs": [],
   "source": []
  },
  {
   "cell_type": "code",
   "execution_count": null,
   "id": "9c3d9d5c",
   "metadata": {},
   "outputs": [],
   "source": []
  },
  {
   "cell_type": "code",
   "execution_count": null,
   "id": "8f4b6177",
   "metadata": {},
   "outputs": [],
   "source": []
  },
  {
   "cell_type": "code",
   "execution_count": null,
   "id": "022f8a70",
   "metadata": {},
   "outputs": [],
   "source": []
  },
  {
   "cell_type": "code",
   "execution_count": null,
   "id": "03042720",
   "metadata": {},
   "outputs": [],
   "source": []
  }
 ],
 "metadata": {
  "hide_input": false,
  "kernelspec": {
   "display_name": "Python 3 (ipykernel)",
   "language": "python",
   "name": "python3"
  },
  "language_info": {
   "codemirror_mode": {
    "name": "ipython",
    "version": 3
   },
   "file_extension": ".py",
   "mimetype": "text/x-python",
   "name": "python",
   "nbconvert_exporter": "python",
   "pygments_lexer": "ipython3",
   "version": "3.9.7"
  },
  "varInspector": {
   "cols": {
    "lenName": 16,
    "lenType": 16,
    "lenVar": 40
   },
   "kernels_config": {
    "python": {
     "delete_cmd_postfix": "",
     "delete_cmd_prefix": "del ",
     "library": "var_list.py",
     "varRefreshCmd": "print(var_dic_list())"
    },
    "r": {
     "delete_cmd_postfix": ") ",
     "delete_cmd_prefix": "rm(",
     "library": "var_list.r",
     "varRefreshCmd": "cat(var_dic_list()) "
    }
   },
   "types_to_exclude": [
    "module",
    "function",
    "builtin_function_or_method",
    "instance",
    "_Feature"
   ],
   "window_display": false
  }
 },
 "nbformat": 4,
 "nbformat_minor": 5
}
