{
 "cells": [
  {
   "cell_type": "markdown",
   "id": "173c708f",
   "metadata": {},
   "source": [
    "# Modulo 05 - Extração de Dados em HTML"
   ]
  },
  {
   "cell_type": "markdown",
   "id": "134d769b",
   "metadata": {
    "heading_collapsed": true
   },
   "source": [
    "## A biblioteca Beautiful Soup - Teoria"
   ]
  },
  {
   "cell_type": "code",
   "execution_count": 2,
   "id": "14428729",
   "metadata": {
    "ExecuteTime": {
     "end_time": "2023-01-05T14:14:52.600574Z",
     "start_time": "2023-01-05T14:14:52.322471Z"
    },
    "hidden": true
   },
   "outputs": [],
   "source": [
    "from bs4 import BeautifulSoup"
   ]
  },
  {
   "cell_type": "code",
   "execution_count": 1,
   "id": "18c08c4c",
   "metadata": {
    "ExecuteTime": {
     "end_time": "2023-01-05T14:14:24.888148Z",
     "start_time": "2023-01-05T14:14:24.871503Z"
    },
    "hidden": true
   },
   "outputs": [],
   "source": [
    "html_doc = \"\"\"<html><head><title>The Dormouse's story</title></head>\n",
    "<body>\n",
    "<p class=\"title\"><b>The Dormouse's story</b></p>\n",
    "\n",
    "<p class=\"story\">Once upon a time there were three little sisters; and their names were\n",
    "<a href=\"http://example.com/elsie\" class=\"sister\" id=\"link1\">Elsie</a>,\n",
    "<a href=\"http://example.com/lacie\" class=\"sister\" id=\"link2\">Lacie</a> and\n",
    "<a href=\"http://example.com/tillie\" class=\"sister\" id=\"link3\">Tillie</a>;\n",
    "and they lived at the bottom of a well.</p>\n",
    "\n",
    "<p class=\"story\">...</p>\n",
    "\"\"\""
   ]
  },
  {
   "cell_type": "code",
   "execution_count": 4,
   "id": "928e6641",
   "metadata": {
    "ExecuteTime": {
     "end_time": "2023-01-05T14:15:33.119615Z",
     "start_time": "2023-01-05T14:15:33.105968Z"
    },
    "hidden": true
   },
   "outputs": [],
   "source": [
    "soup = BeautifulSoup(html_doc, 'html.parser')"
   ]
  },
  {
   "cell_type": "code",
   "execution_count": 9,
   "id": "18481f16",
   "metadata": {
    "ExecuteTime": {
     "end_time": "2023-01-05T14:19:51.785711Z",
     "start_time": "2023-01-05T14:19:51.778026Z"
    },
    "hidden": true
   },
   "outputs": [
    {
     "name": "stdout",
     "output_type": "stream",
     "text": [
      "<body>\n",
      "<p class=\"title\"><b>The Dormouse's story</b></p>\n",
      "<p class=\"story\">Once upon a time there were three little sisters; and their names were\n",
      "<a class=\"sister\" href=\"http://example.com/elsie\" id=\"link1\">Elsie</a>,\n",
      "<a class=\"sister\" href=\"http://example.com/lacie\" id=\"link2\">Lacie</a> and\n",
      "<a class=\"sister\" href=\"http://example.com/tillie\" id=\"link3\">Tillie</a>;\n",
      "and they lived at the bottom of a well.</p>\n",
      "<p class=\"story\">...</p>\n",
      "</body>\n"
     ]
    }
   ],
   "source": [
    "print(soup.body)"
   ]
  },
  {
   "cell_type": "code",
   "execution_count": 18,
   "id": "242b1bd3",
   "metadata": {
    "ExecuteTime": {
     "end_time": "2023-01-05T14:23:01.262689Z",
     "start_time": "2023-01-05T14:23:01.251661Z"
    },
    "hidden": true
   },
   "outputs": [
    {
     "data": {
      "text/plain": [
       "<a class=\"sister\" href=\"http://example.com/elsie\" id=\"link1\">Elsie</a>"
      ]
     },
     "execution_count": 18,
     "metadata": {},
     "output_type": "execute_result"
    }
   ],
   "source": [
    "soup.find_all('a', id= 'link1')[0]"
   ]
  },
  {
   "cell_type": "markdown",
   "id": "2c9c821b",
   "metadata": {},
   "source": [
    "## A biblioteca Beautiful Soup - Prática"
   ]
  },
  {
   "cell_type": "code",
   "execution_count": 43,
   "id": "cf97b44e",
   "metadata": {
    "ExecuteTime": {
     "end_time": "2023-01-05T14:56:37.443621Z",
     "start_time": "2023-01-05T14:56:37.426660Z"
    }
   },
   "outputs": [],
   "source": [
    "import requests\n",
    "import pandas as pd\n",
    "from datetime import datetime"
   ]
  },
  {
   "cell_type": "code",
   "execution_count": 20,
   "id": "7023b4cb",
   "metadata": {
    "ExecuteTime": {
     "end_time": "2023-01-05T14:34:30.099765Z",
     "start_time": "2023-01-05T14:34:29.233143Z"
    }
   },
   "outputs": [],
   "source": [
    "url = 'https://www2.hm.com/en_us/men/products/jeans.html'\n",
    "\n",
    "headers = {'User-Agent': 'Mozilla/5.0 (Macintosh; Intel Mac OS X 10_11_5) AppleWebKit/537.36 (KHTML, like Gecko) Chrome/50.0.2661.102 Safari/537.36'}\n",
    "page = requests.get(url, headers=headers)"
   ]
  },
  {
   "cell_type": "code",
   "execution_count": 23,
   "id": "adb806a8",
   "metadata": {
    "ExecuteTime": {
     "end_time": "2023-01-05T14:35:18.702536Z",
     "start_time": "2023-01-05T14:35:18.435504Z"
    }
   },
   "outputs": [],
   "source": [
    "soup = BeautifulSoup(page.text, 'html.parser')"
   ]
  },
  {
   "cell_type": "code",
   "execution_count": 24,
   "id": "99d3a642",
   "metadata": {
    "ExecuteTime": {
     "end_time": "2023-01-05T14:38:49.909344Z",
     "start_time": "2023-01-05T14:38:49.891358Z"
    }
   },
   "outputs": [],
   "source": [
    "products = soup.find('ul', class_='products-listing small')"
   ]
  },
  {
   "cell_type": "code",
   "execution_count": 29,
   "id": "fc64eac1",
   "metadata": {
    "ExecuteTime": {
     "end_time": "2023-01-05T14:49:48.928452Z",
     "start_time": "2023-01-05T14:49:48.902636Z"
    }
   },
   "outputs": [],
   "source": [
    "product_list = products.find_all('article', class_='hm-product-item')\n",
    "\n",
    "# product id\n",
    "product_id = [p.get('data-articlecode') for p in product_list]\n",
    "\n",
    "# product category\n",
    "product_category = [p.get('data-category') for p in product_list]"
   ]
  },
  {
   "cell_type": "code",
   "execution_count": 33,
   "id": "ac2eaacc",
   "metadata": {
    "ExecuteTime": {
     "end_time": "2023-01-05T14:51:28.495388Z",
     "start_time": "2023-01-05T14:51:28.468925Z"
    }
   },
   "outputs": [],
   "source": [
    "product_list = products.find_all('a', class_='link')\n",
    "\n",
    "# product name\n",
    "product_name = [p.get_text() for p in product_list]"
   ]
  },
  {
   "cell_type": "code",
   "execution_count": 39,
   "id": "7b9505ef",
   "metadata": {
    "ExecuteTime": {
     "end_time": "2023-01-05T14:53:26.970241Z",
     "start_time": "2023-01-05T14:53:26.947466Z"
    }
   },
   "outputs": [],
   "source": [
    "# price\n",
    "product_list = products.find_all('span', class_='price regular')\n",
    "product_price = [p.get_text() for p in product_list]"
   ]
  },
  {
   "cell_type": "code",
   "execution_count": 40,
   "id": "e60f7503",
   "metadata": {
    "ExecuteTime": {
     "end_time": "2023-01-05T14:55:02.908733Z",
     "start_time": "2023-01-05T14:55:02.900565Z"
    }
   },
   "outputs": [],
   "source": [
    "# product color"
   ]
  },
  {
   "cell_type": "code",
   "execution_count": 41,
   "id": "1350840e",
   "metadata": {
    "ExecuteTime": {
     "end_time": "2023-01-05T14:55:14.934663Z",
     "start_time": "2023-01-05T14:55:14.916657Z"
    }
   },
   "outputs": [],
   "source": [
    "# product composition"
   ]
  },
  {
   "cell_type": "code",
   "execution_count": 46,
   "id": "bd681677",
   "metadata": {
    "ExecuteTime": {
     "end_time": "2023-01-05T14:58:52.213401Z",
     "start_time": "2023-01-05T14:58:52.163387Z"
    }
   },
   "outputs": [],
   "source": [
    "data = pd.DataFrame([product_id, product_category, product_name, product_price]).T\n",
    "data.columns = ['product_id', 'product_category', 'product_name', 'product_price']\n",
    "\n",
    "# scrapy datetime\n",
    "data['scrapy_datetime'] = datetime.now().strftime('%Y-%m-%d %H:%M:%S')"
   ]
  },
  {
   "cell_type": "code",
   "execution_count": 45,
   "id": "522e1e96",
   "metadata": {
    "ExecuteTime": {
     "end_time": "2023-01-05T14:58:14.424331Z",
     "start_time": "2023-01-05T14:58:14.403070Z"
    }
   },
   "outputs": [
    {
     "data": {
      "text/plain": [
       "'2023-01-05 11:58:14'"
      ]
     },
     "execution_count": 45,
     "metadata": {},
     "output_type": "execute_result"
    }
   ],
   "source": []
  },
  {
   "cell_type": "code",
   "execution_count": null,
   "id": "61870ac9",
   "metadata": {},
   "outputs": [],
   "source": []
  }
 ],
 "metadata": {
  "hide_input": false,
  "kernelspec": {
   "display_name": "Python 3 (ipykernel)",
   "language": "python",
   "name": "python3"
  },
  "language_info": {
   "codemirror_mode": {
    "name": "ipython",
    "version": 3
   },
   "file_extension": ".py",
   "mimetype": "text/x-python",
   "name": "python",
   "nbconvert_exporter": "python",
   "pygments_lexer": "ipython3",
   "version": "3.9.7"
  },
  "varInspector": {
   "cols": {
    "lenName": 16,
    "lenType": 16,
    "lenVar": 40
   },
   "kernels_config": {
    "python": {
     "delete_cmd_postfix": "",
     "delete_cmd_prefix": "del ",
     "library": "var_list.py",
     "varRefreshCmd": "print(var_dic_list())"
    },
    "r": {
     "delete_cmd_postfix": ") ",
     "delete_cmd_prefix": "rm(",
     "library": "var_list.r",
     "varRefreshCmd": "cat(var_dic_list()) "
    }
   },
   "types_to_exclude": [
    "module",
    "function",
    "builtin_function_or_method",
    "instance",
    "_Feature"
   ],
   "window_display": false
  }
 },
 "nbformat": 4,
 "nbformat_minor": 5
}
